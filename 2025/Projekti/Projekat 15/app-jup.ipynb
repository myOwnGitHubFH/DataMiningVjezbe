{
 "cells": [
  {
   "cell_type": "code",
   "execution_count": 12,
   "id": "424f0c76-e08d-44ef-b04b-81747d65278a",
   "metadata": {},
   "outputs": [],
   "source": [
    "import os\n",
    "import numpy as np\n",
    "import pandas as pd\n",
    "from sklearn.preprocessing import MinMaxScaler\n",
    "from tensorflow.keras.models import Sequential\n",
    "from tensorflow.keras.layers import LSTM, Dense, Dropout\n",
    "from sklearn.metrics import mean_squared_error\n",
    "import matplotlib.pyplot as plt\n",
    "from sklearn.metrics import mean_absolute_error"
   ]
  },
  {
   "cell_type": "code",
   "execution_count": 13,
   "id": "8b49aacb-07e7-43c5-9aa8-52ecdfb31143",
   "metadata": {},
   "outputs": [],
   "source": [
    "# putanja do foldera gdje se nalaze svi csv-ovi\n",
    "DATA_PATH = r\"C:/Users/ZIRA/Desktop/MASTER/RP/mahir\"\n",
    "# kao primjer uzeta je računica samo za New York\n",
    "CITY = \"New York\"\n",
    "# gleda se zadnjih 24 sata kao predikcija za 25-ti\n",
    "WINDOW_SIZE = 24"
   ]
  },
  {
   "cell_type": "code",
   "execution_count": 14,
   "id": "ac412d54-6395-4d6f-8390-b8285b136d74",
   "metadata": {},
   "outputs": [],
   "source": [
    "# nazivi svih csv-ova unutar niza\n",
    "csv_files = [\n",
    "    \"humidity.csv\",\n",
    "    \"pressure.csv\",\n",
    "    \"temperature.csv\",\n",
    "    \"wind_direction.csv\",\n",
    "    \"wind_speed.csv\",\n",
    "    \"weather_description.csv\"\n",
    "]\n",
    "\n",
    "# funkcija koja učitava sve csv-ove, uzima samo New York podatke i postavlja index na datetime koloni jer je ona ključna u svim csv-ovima\n",
    "def load_feature(file):\n",
    "    df = pd.read_csv(os.path.join(DATA_PATH, file))\n",
    "    df = df[[\"datetime\", CITY]]\n",
    "    df[\"datetime\"] = pd.to_datetime(df[\"datetime\"])\n",
    "    feature_name = file.replace(\".csv\", \"\")\n",
    "    return df.rename(columns={CITY: feature_name}).set_index(\"datetime\")\n",
    "\n",
    "#učitavanje svih csv-ova\n",
    "dfs = [load_feature(f) for f in csv_files]"
   ]
  },
  {
   "cell_type": "code",
   "execution_count": 7,
   "id": "5e0c92f4-be8f-447f-b2c6-566fba189460",
   "metadata": {},
   "outputs": [
    {
     "name": "stdout",
     "output_type": "stream",
     "text": [
      "                     humidity\n",
      "datetime                     \n",
      "2012-10-01 12:00:00       NaN\n",
      "2012-10-01 13:00:00      58.0\n",
      "2012-10-01 14:00:00      57.0\n",
      "2012-10-01 15:00:00      57.0\n",
      "2012-10-01 16:00:00      57.0\n",
      "...                       ...\n",
      "2017-11-29 20:00:00       NaN\n",
      "2017-11-29 21:00:00       NaN\n",
      "2017-11-29 22:00:00       NaN\n",
      "2017-11-29 23:00:00       NaN\n",
      "2017-11-30 00:00:00       NaN\n",
      "\n",
      "[45253 rows x 1 columns]\n"
     ]
    }
   ],
   "source": [
    "print(load_feature('humidity.csv'));"
   ]
  },
  {
   "cell_type": "code",
   "execution_count": 15,
   "id": "431e6636-cf33-418a-b683-43afd46de1a4",
   "metadata": {},
   "outputs": [],
   "source": [
    "# spajanje svih podataka iz svih csv-ova u jednu varijablu\n",
    "data = pd.concat(dfs, axis=1)"
   ]
  },
  {
   "cell_type": "code",
   "execution_count": 10,
   "id": "7b227411-c0a4-4350-a70c-b6d2f90271d0",
   "metadata": {},
   "outputs": [
    {
     "name": "stdout",
     "output_type": "stream",
     "text": [
      "                     humidity  pressure  temperature  wind_direction  \\\n",
      "datetime                                                               \n",
      "2012-10-01 12:00:00       NaN       NaN          NaN             NaN   \n",
      "2012-10-01 13:00:00      58.0    1012.0   288.220000           260.0   \n",
      "2012-10-01 14:00:00      57.0    1012.0   288.247676           260.0   \n",
      "2012-10-01 15:00:00      57.0    1012.0   288.326940           260.0   \n",
      "2012-10-01 16:00:00      57.0    1012.0   288.406203           260.0   \n",
      "2012-10-01 17:00:00      57.0    1012.0   288.485467           261.0   \n",
      "2012-10-01 18:00:00      56.0    1012.0   288.564730           261.0   \n",
      "2012-10-01 19:00:00      56.0    1012.0   288.643994           262.0   \n",
      "2012-10-01 20:00:00      56.0    1012.0   288.723257           262.0   \n",
      "2012-10-01 21:00:00      55.0    1012.0   288.802521           263.0   \n",
      "\n",
      "                     wind_speed weather_description  \n",
      "datetime                                             \n",
      "2012-10-01 12:00:00         NaN                 NaN  \n",
      "2012-10-01 13:00:00         7.0          few clouds  \n",
      "2012-10-01 14:00:00         7.0          few clouds  \n",
      "2012-10-01 15:00:00         7.0          few clouds  \n",
      "2012-10-01 16:00:00         7.0          few clouds  \n",
      "2012-10-01 17:00:00         6.0          few clouds  \n",
      "2012-10-01 18:00:00         6.0          few clouds  \n",
      "2012-10-01 19:00:00         6.0          few clouds  \n",
      "2012-10-01 20:00:00         6.0          few clouds  \n",
      "2012-10-01 21:00:00         6.0          few clouds  \n"
     ]
    }
   ],
   "source": [
    "print(data.head(10))"
   ]
  },
  {
   "cell_type": "code",
   "execution_count": 16,
   "id": "a810c3a6-f0f6-40e0-bc45-e20557ffd73f",
   "metadata": {},
   "outputs": [],
   "source": [
    "# popunjavanje NaN vrijednosti (gledaju se vrijednosti prije, ako ne postoje gledaju se one poslije)\n",
    "data = data.ffill().bfill()"
   ]
  },
  {
   "cell_type": "code",
   "execution_count": 17,
   "id": "6c9ba50e-2e95-4ed8-a6af-b49bee6fa583",
   "metadata": {},
   "outputs": [],
   "source": [
    "# one-hot encoding weather_description kolone zato sto je tekstualna\n",
    "data = pd.get_dummies(data, columns=[\"weather_description\"])"
   ]
  },
  {
   "cell_type": "code",
   "execution_count": 18,
   "id": "6eb958a1-fb18-48b4-b133-4605f9ba2c25",
   "metadata": {},
   "outputs": [],
   "source": [
    "# ako je ostalo nesto NaN slučajno (bfill i ffill nisu odradili posao jer su sve vrijednosti NaN npr), popuni sa nulom\n",
    "data = data.fillna(0)"
   ]
  },
  {
   "cell_type": "code",
   "execution_count": 19,
   "id": "a5bec4a6-f4b5-47bd-8cc5-df9d4c97157a",
   "metadata": {},
   "outputs": [],
   "source": [
    "# prebaci sve u tip float32 jer LSTM radi bolje sa njima\n",
    "data = data.astype(np.float32)"
   ]
  },
  {
   "cell_type": "code",
   "execution_count": 20,
   "id": "0d3062bc-f5ee-42f0-91ab-4a8b5dd62947",
   "metadata": {},
   "outputs": [],
   "source": [
    "# transformacija temperature u celzijuse (lakše)\n",
    "data[\"temperature\"] = data[\"temperature\"] - 273.15"
   ]
  },
  {
   "cell_type": "code",
   "execution_count": 11,
   "id": "d5d62af7-c551-4940-94a8-96e0b8803abd",
   "metadata": {},
   "outputs": [
    {
     "name": "stdout",
     "output_type": "stream",
     "text": [
      "                     humidity  pressure  temperature  wind_direction  \\\n",
      "datetime                                                               \n",
      "2012-10-01 12:00:00       NaN       NaN          NaN             NaN   \n",
      "2012-10-01 13:00:00      58.0    1012.0   288.220000           260.0   \n",
      "2012-10-01 14:00:00      57.0    1012.0   288.247676           260.0   \n",
      "2012-10-01 15:00:00      57.0    1012.0   288.326940           260.0   \n",
      "2012-10-01 16:00:00      57.0    1012.0   288.406203           260.0   \n",
      "...                       ...       ...          ...             ...   \n",
      "2017-11-29 20:00:00       NaN       NaN          NaN             NaN   \n",
      "2017-11-29 21:00:00       NaN       NaN          NaN             NaN   \n",
      "2017-11-29 22:00:00       NaN       NaN          NaN             NaN   \n",
      "2017-11-29 23:00:00       NaN       NaN          NaN             NaN   \n",
      "2017-11-30 00:00:00       NaN       NaN          NaN             NaN   \n",
      "\n",
      "                     wind_speed weather_description  \n",
      "datetime                                             \n",
      "2012-10-01 12:00:00         NaN                 NaN  \n",
      "2012-10-01 13:00:00         7.0          few clouds  \n",
      "2012-10-01 14:00:00         7.0          few clouds  \n",
      "2012-10-01 15:00:00         7.0          few clouds  \n",
      "2012-10-01 16:00:00         7.0          few clouds  \n",
      "...                         ...                 ...  \n",
      "2017-11-29 20:00:00         NaN                 NaN  \n",
      "2017-11-29 21:00:00         NaN                 NaN  \n",
      "2017-11-29 22:00:00         NaN                 NaN  \n",
      "2017-11-29 23:00:00         NaN                 NaN  \n",
      "2017-11-30 00:00:00         NaN                 NaN  \n",
      "\n",
      "[45253 rows x 6 columns]\n"
     ]
    }
   ],
   "source": [
    "print(data)"
   ]
  },
  {
   "cell_type": "code",
   "execution_count": 21,
   "id": "cad256c9-8b62-4786-9b03-c7cb12798490",
   "metadata": {},
   "outputs": [],
   "source": [
    "# spremanje svih numerickih kolona osim weather_desc_ jer su one binarno kodirane\n",
    "numerical_cols = [col for col in data.columns if not col.startswith(\"weather_description_\")]\n",
    "scaler = MinMaxScaler()"
   ]
  },
  {
   "cell_type": "code",
   "execution_count": 25,
   "id": "80b1a42b-6dee-4a6e-9257-d2b9a5db218d",
   "metadata": {},
   "outputs": [
    {
     "name": "stdout",
     "output_type": "stream",
     "text": [
      "['humidity', 'pressure', 'temperature', 'wind_direction', 'wind_speed']\n"
     ]
    }
   ],
   "source": [
    "print(numerical_cols)"
   ]
  },
  {
   "cell_type": "code",
   "execution_count": 22,
   "id": "0bd54100-9fef-4955-8a07-0f33316b7d03",
   "metadata": {},
   "outputs": [],
   "source": [
    "# skaliraju se podaci na opseg [0,1] zbog raznolikosti vrijednosti, također olakšanje za LSTM\n",
    "data[numerical_cols] = scaler.fit_transform(data[numerical_cols])"
   ]
  },
  {
   "cell_type": "code",
   "execution_count": 29,
   "id": "3b65207b-6700-4ac9-b629-4fb108773bd6",
   "metadata": {},
   "outputs": [
    {
     "name": "stdout",
     "output_type": "stream",
     "text": [
      "                     humidity  pressure  temperature  wind_direction  \\\n",
      "datetime                                                               \n",
      "2012-10-01 12:00:00  0.533333  0.569893     0.629704        0.722222   \n",
      "2012-10-01 13:00:00  0.533333  0.569893     0.629704        0.722222   \n",
      "2012-10-01 14:00:00  0.522222  0.569893     0.630170        0.722222   \n",
      "2012-10-01 15:00:00  0.522222  0.569893     0.631503        0.722222   \n",
      "2012-10-01 16:00:00  0.522222  0.569893     0.632835        0.722222   \n",
      "...                       ...       ...          ...             ...   \n",
      "2017-11-29 20:00:00  0.533333  0.655914     0.575220        0.000000   \n",
      "2017-11-29 21:00:00  0.533333  0.655914     0.575220        0.000000   \n",
      "2017-11-29 22:00:00  0.533333  0.655914     0.575220        0.000000   \n",
      "2017-11-29 23:00:00  0.533333  0.655914     0.575220        0.000000   \n",
      "2017-11-30 00:00:00  0.533333  0.655914     0.575220        0.000000   \n",
      "\n",
      "                     wind_speed  weather_description_broken clouds  \\\n",
      "datetime                                                             \n",
      "2012-10-01 12:00:00        0.28                                0.0   \n",
      "2012-10-01 13:00:00        0.28                                0.0   \n",
      "2012-10-01 14:00:00        0.28                                0.0   \n",
      "2012-10-01 15:00:00        0.28                                0.0   \n",
      "2012-10-01 16:00:00        0.28                                0.0   \n",
      "...                         ...                                ...   \n",
      "2017-11-29 20:00:00        0.08                                0.0   \n",
      "2017-11-29 21:00:00        0.08                                0.0   \n",
      "2017-11-29 22:00:00        0.08                                0.0   \n",
      "2017-11-29 23:00:00        0.08                                0.0   \n",
      "2017-11-30 00:00:00        0.08                                0.0   \n",
      "\n",
      "                     weather_description_drizzle  weather_description_dust  \\\n",
      "datetime                                                                     \n",
      "2012-10-01 12:00:00                          0.0                       0.0   \n",
      "2012-10-01 13:00:00                          0.0                       0.0   \n",
      "2012-10-01 14:00:00                          0.0                       0.0   \n",
      "2012-10-01 15:00:00                          0.0                       0.0   \n",
      "2012-10-01 16:00:00                          0.0                       0.0   \n",
      "...                                          ...                       ...   \n",
      "2017-11-29 20:00:00                          0.0                       0.0   \n",
      "2017-11-29 21:00:00                          0.0                       0.0   \n",
      "2017-11-29 22:00:00                          0.0                       0.0   \n",
      "2017-11-29 23:00:00                          0.0                       0.0   \n",
      "2017-11-30 00:00:00                          0.0                       0.0   \n",
      "\n",
      "                     weather_description_few clouds  weather_description_fog  \\\n",
      "datetime                                                                       \n",
      "2012-10-01 12:00:00                             1.0                      0.0   \n",
      "2012-10-01 13:00:00                             1.0                      0.0   \n",
      "2012-10-01 14:00:00                             1.0                      0.0   \n",
      "2012-10-01 15:00:00                             1.0                      0.0   \n",
      "2012-10-01 16:00:00                             1.0                      0.0   \n",
      "...                                             ...                      ...   \n",
      "2017-11-29 20:00:00                             0.0                      0.0   \n",
      "2017-11-29 21:00:00                             0.0                      0.0   \n",
      "2017-11-29 22:00:00                             0.0                      0.0   \n",
      "2017-11-29 23:00:00                             0.0                      0.0   \n",
      "2017-11-30 00:00:00                             0.0                      0.0   \n",
      "\n",
      "                     ...  weather_description_sky is clear  \\\n",
      "datetime             ...                                     \n",
      "2012-10-01 12:00:00  ...                               0.0   \n",
      "2012-10-01 13:00:00  ...                               0.0   \n",
      "2012-10-01 14:00:00  ...                               0.0   \n",
      "2012-10-01 15:00:00  ...                               0.0   \n",
      "2012-10-01 16:00:00  ...                               0.0   \n",
      "...                  ...                               ...   \n",
      "2017-11-29 20:00:00  ...                               1.0   \n",
      "2017-11-29 21:00:00  ...                               1.0   \n",
      "2017-11-29 22:00:00  ...                               1.0   \n",
      "2017-11-29 23:00:00  ...                               1.0   \n",
      "2017-11-30 00:00:00  ...                               1.0   \n",
      "\n",
      "                     weather_description_smoke  weather_description_snow  \\\n",
      "datetime                                                                   \n",
      "2012-10-01 12:00:00                        0.0                       0.0   \n",
      "2012-10-01 13:00:00                        0.0                       0.0   \n",
      "2012-10-01 14:00:00                        0.0                       0.0   \n",
      "2012-10-01 15:00:00                        0.0                       0.0   \n",
      "2012-10-01 16:00:00                        0.0                       0.0   \n",
      "...                                        ...                       ...   \n",
      "2017-11-29 20:00:00                        0.0                       0.0   \n",
      "2017-11-29 21:00:00                        0.0                       0.0   \n",
      "2017-11-29 22:00:00                        0.0                       0.0   \n",
      "2017-11-29 23:00:00                        0.0                       0.0   \n",
      "2017-11-30 00:00:00                        0.0                       0.0   \n",
      "\n",
      "                     weather_description_squalls  \\\n",
      "datetime                                           \n",
      "2012-10-01 12:00:00                          0.0   \n",
      "2012-10-01 13:00:00                          0.0   \n",
      "2012-10-01 14:00:00                          0.0   \n",
      "2012-10-01 15:00:00                          0.0   \n",
      "2012-10-01 16:00:00                          0.0   \n",
      "...                                          ...   \n",
      "2017-11-29 20:00:00                          0.0   \n",
      "2017-11-29 21:00:00                          0.0   \n",
      "2017-11-29 22:00:00                          0.0   \n",
      "2017-11-29 23:00:00                          0.0   \n",
      "2017-11-30 00:00:00                          0.0   \n",
      "\n",
      "                     weather_description_thunderstorm  \\\n",
      "datetime                                                \n",
      "2012-10-01 12:00:00                               0.0   \n",
      "2012-10-01 13:00:00                               0.0   \n",
      "2012-10-01 14:00:00                               0.0   \n",
      "2012-10-01 15:00:00                               0.0   \n",
      "2012-10-01 16:00:00                               0.0   \n",
      "...                                               ...   \n",
      "2017-11-29 20:00:00                               0.0   \n",
      "2017-11-29 21:00:00                               0.0   \n",
      "2017-11-29 22:00:00                               0.0   \n",
      "2017-11-29 23:00:00                               0.0   \n",
      "2017-11-30 00:00:00                               0.0   \n",
      "\n",
      "                     weather_description_thunderstorm with heavy rain  \\\n",
      "datetime                                                                \n",
      "2012-10-01 12:00:00                                               0.0   \n",
      "2012-10-01 13:00:00                                               0.0   \n",
      "2012-10-01 14:00:00                                               0.0   \n",
      "2012-10-01 15:00:00                                               0.0   \n",
      "2012-10-01 16:00:00                                               0.0   \n",
      "...                                                               ...   \n",
      "2017-11-29 20:00:00                                               0.0   \n",
      "2017-11-29 21:00:00                                               0.0   \n",
      "2017-11-29 22:00:00                                               0.0   \n",
      "2017-11-29 23:00:00                                               0.0   \n",
      "2017-11-30 00:00:00                                               0.0   \n",
      "\n",
      "                     weather_description_thunderstorm with light drizzle  \\\n",
      "datetime                                                                   \n",
      "2012-10-01 12:00:00                                                0.0     \n",
      "2012-10-01 13:00:00                                                0.0     \n",
      "2012-10-01 14:00:00                                                0.0     \n",
      "2012-10-01 15:00:00                                                0.0     \n",
      "2012-10-01 16:00:00                                                0.0     \n",
      "...                                                                ...     \n",
      "2017-11-29 20:00:00                                                0.0     \n",
      "2017-11-29 21:00:00                                                0.0     \n",
      "2017-11-29 22:00:00                                                0.0     \n",
      "2017-11-29 23:00:00                                                0.0     \n",
      "2017-11-30 00:00:00                                                0.0     \n",
      "\n",
      "                     weather_description_thunderstorm with light rain  \\\n",
      "datetime                                                                \n",
      "2012-10-01 12:00:00                                               0.0   \n",
      "2012-10-01 13:00:00                                               0.0   \n",
      "2012-10-01 14:00:00                                               0.0   \n",
      "2012-10-01 15:00:00                                               0.0   \n",
      "2012-10-01 16:00:00                                               0.0   \n",
      "...                                                               ...   \n",
      "2017-11-29 20:00:00                                               0.0   \n",
      "2017-11-29 21:00:00                                               0.0   \n",
      "2017-11-29 22:00:00                                               0.0   \n",
      "2017-11-29 23:00:00                                               0.0   \n",
      "2017-11-30 00:00:00                                               0.0   \n",
      "\n",
      "                     weather_description_thunderstorm with rain  \\\n",
      "datetime                                                          \n",
      "2012-10-01 12:00:00                                         0.0   \n",
      "2012-10-01 13:00:00                                         0.0   \n",
      "2012-10-01 14:00:00                                         0.0   \n",
      "2012-10-01 15:00:00                                         0.0   \n",
      "2012-10-01 16:00:00                                         0.0   \n",
      "...                                                         ...   \n",
      "2017-11-29 20:00:00                                         0.0   \n",
      "2017-11-29 21:00:00                                         0.0   \n",
      "2017-11-29 22:00:00                                         0.0   \n",
      "2017-11-29 23:00:00                                         0.0   \n",
      "2017-11-30 00:00:00                                         0.0   \n",
      "\n",
      "                     weather_description_very heavy rain  \n",
      "datetime                                                  \n",
      "2012-10-01 12:00:00                                  0.0  \n",
      "2012-10-01 13:00:00                                  0.0  \n",
      "2012-10-01 14:00:00                                  0.0  \n",
      "2012-10-01 15:00:00                                  0.0  \n",
      "2012-10-01 16:00:00                                  0.0  \n",
      "...                                                  ...  \n",
      "2017-11-29 20:00:00                                  0.0  \n",
      "2017-11-29 21:00:00                                  0.0  \n",
      "2017-11-29 22:00:00                                  0.0  \n",
      "2017-11-29 23:00:00                                  0.0  \n",
      "2017-11-30 00:00:00                                  0.0  \n",
      "\n",
      "[45253 rows x 41 columns]\n"
     ]
    }
   ],
   "source": [
    "print(data)"
   ]
  },
  {
   "cell_type": "code",
   "execution_count": 23,
   "id": "75a31b63-5cd2-4aa0-aa6d-8bd92dbab47f",
   "metadata": {},
   "outputs": [],
   "source": [
    "# funkcija koja kreira sekvence za time_window, uzima npr. 24 vrijednosti (X), u y smješta 25-tu kao onu koja se treba prediktovati.\n",
    "def create_sequences(data, target_col, window):\n",
    "    X, y = [], []\n",
    "    target_idx = data.columns.get_loc(target_col)\n",
    "    for i in range(len(data) - window):\n",
    "        X.append(data.iloc[i:i+window].values)\n",
    "        y.append(data.iloc[i+window, target_idx])\n",
    "    X = np.array(X, dtype=np.float32)\n",
    "    y = np.array(y, dtype=np.float32)\n",
    "    return X, y"
   ]
  },
  {
   "cell_type": "code",
   "execution_count": 24,
   "id": "329e2e7e-787d-4b9d-967c-05673a1cb35c",
   "metadata": {},
   "outputs": [],
   "source": [
    "target_column = \"temperature\"\n",
    "\n",
    "X, y = create_sequences(data, target_column, WINDOW_SIZE)"
   ]
  },
  {
   "cell_type": "code",
   "execution_count": 46,
   "id": "ce285f81-03f9-4ff0-b34a-781c016dd585",
   "metadata": {},
   "outputs": [
    {
     "name": "stdout",
     "output_type": "stream",
     "text": [
      "[0.5222222  0.5698929  0.63016987 0.72222227 0.28       0.\n",
      " 0.         0.         1.         0.         0.         0.\n",
      " 0.         0.         0.         0.         0.         0.\n",
      " 0.         0.         0.         0.         0.         0.\n",
      " 0.         0.         0.         0.         0.         0.\n",
      " 0.         0.         0.         0.         0.         0.\n",
      " 0.         0.         0.         0.         0.        ]\n",
      "0.66082716\n"
     ]
    }
   ],
   "source": [
    "print(X[1][1])\n",
    "print(y[1])"
   ]
  },
  {
   "cell_type": "code",
   "execution_count": 33,
   "id": "270e4547-ebeb-4de3-af4a-af8a413d1092",
   "metadata": {},
   "outputs": [
    {
     "name": "stdout",
     "output_type": "stream",
     "text": [
      "[0.6594944  0.66082716 0.6621599  ... 0.57521963 0.57521963 0.57521963]\n"
     ]
    }
   ],
   "source": [
    "print(y)"
   ]
  },
  {
   "cell_type": "code",
   "execution_count": 25,
   "id": "59ac5122-5858-4263-a54b-1144b364c515",
   "metadata": {},
   "outputs": [
    {
     "name": "stdout",
     "output_type": "stream",
     "text": [
      "X dtype: float32 shape: (45229, 24, 41)\n",
      "y dtype: float32 shape: (45229,)\n",
      "45253\n"
     ]
    }
   ],
   "source": [
    "print(\"X dtype:\", X.dtype, \"shape:\", X.shape)\n",
    "print(\"y dtype:\", y.dtype, \"shape:\", y.shape)\n",
    "print(len(data))"
   ]
  },
  {
   "cell_type": "code",
   "execution_count": 26,
   "id": "bfd7dfc2-fa77-4b66-9096-6784522e4c09",
   "metadata": {},
   "outputs": [],
   "source": [
    "# split podataka na testne i trening\n",
    "split = int(0.8 * len(X))\n",
    "X_train, X_test = X[:split], X[split:]\n",
    "y_train, y_test = y[:split], y[split:]"
   ]
  },
  {
   "cell_type": "code",
   "execution_count": 27,
   "id": "787ef408-6f02-493a-92f5-c2a8ac9c99ee",
   "metadata": {},
   "outputs": [],
   "source": [
    "# kreiranje modela, kroz eksperimentisanje ovaj daje najbolje rezultate\n",
    "model = Sequential([\n",
    "    LSTM(128, return_sequences=True, input_shape=(WINDOW_SIZE, X.shape[2])),\n",
    "    Dropout(0.3),\n",
    "    LSTM(64),\n",
    "    Dropout(0.3),\n",
    "    Dense(32, activation='relu'),\n",
    "    Dense(1) \n",
    "])"
   ]
  },
  {
   "cell_type": "code",
   "execution_count": 28,
   "id": "107583a3-abfe-4a6a-8735-eb71b65bedf4",
   "metadata": {},
   "outputs": [
    {
     "name": "stdout",
     "output_type": "stream",
     "text": [
      "Epoch 1/20\n",
      "509/509 [==============================] - 30s 53ms/step - loss: 0.0070 - val_loss: 0.0031\n",
      "Epoch 2/20\n",
      "509/509 [==============================] - 27s 54ms/step - loss: 0.0022 - val_loss: 9.6029e-04\n",
      "Epoch 3/20\n",
      "509/509 [==============================] - 26s 51ms/step - loss: 0.0015 - val_loss: 6.8224e-04\n",
      "Epoch 4/20\n",
      "509/509 [==============================] - 27s 54ms/step - loss: 0.0012 - val_loss: 7.1395e-04\n",
      "Epoch 5/20\n",
      "509/509 [==============================] - 28s 56ms/step - loss: 9.9196e-04 - val_loss: 6.2740e-04\n",
      "Epoch 6/20\n",
      "509/509 [==============================] - 27s 52ms/step - loss: 8.3962e-04 - val_loss: 3.7955e-04\n",
      "Epoch 7/20\n",
      "509/509 [==============================] - 27s 53ms/step - loss: 7.5302e-04 - val_loss: 3.5732e-04\n",
      "Epoch 8/20\n",
      "509/509 [==============================] - 25s 50ms/step - loss: 6.8533e-04 - val_loss: 3.7110e-04\n",
      "Epoch 9/20\n",
      "509/509 [==============================] - 25s 48ms/step - loss: 6.4178e-04 - val_loss: 3.3415e-04\n",
      "Epoch 10/20\n",
      "509/509 [==============================] - 25s 49ms/step - loss: 6.0744e-04 - val_loss: 5.0021e-04\n",
      "Epoch 11/20\n",
      "509/509 [==============================] - 26s 51ms/step - loss: 5.7571e-04 - val_loss: 9.7101e-04\n",
      "Epoch 12/20\n",
      "509/509 [==============================] - 26s 50ms/step - loss: 5.5186e-04 - val_loss: 5.9468e-04\n",
      "Epoch 13/20\n",
      "509/509 [==============================] - 26s 51ms/step - loss: 5.2173e-04 - val_loss: 3.4853e-04\n",
      "Epoch 14/20\n",
      "509/509 [==============================] - 27s 53ms/step - loss: 5.0977e-04 - val_loss: 5.6135e-04\n",
      "Epoch 15/20\n",
      "509/509 [==============================] - 26s 52ms/step - loss: 4.7990e-04 - val_loss: 3.9065e-04\n",
      "Epoch 16/20\n",
      "509/509 [==============================] - 28s 55ms/step - loss: 4.8056e-04 - val_loss: 0.0019\n",
      "Epoch 17/20\n",
      "509/509 [==============================] - 28s 55ms/step - loss: 4.5462e-04 - val_loss: 8.8521e-04\n",
      "Epoch 18/20\n",
      "509/509 [==============================] - 26s 52ms/step - loss: 4.4955e-04 - val_loss: 0.0026\n",
      "Epoch 19/20\n",
      "509/509 [==============================] - 27s 53ms/step - loss: 4.3389e-04 - val_loss: 0.0017\n",
      "Epoch 20/20\n",
      "509/509 [==============================] - 29s 57ms/step - loss: 4.1774e-04 - val_loss: 0.0022\n",
      "283/283 [==============================] - 3s 8ms/step\n"
     ]
    }
   ],
   "source": [
    "# koristi se adam optimizer sa 20 epoha i mse kao mjerač tačnosti\n",
    "model.compile(optimizer='adam', loss='mse')\n",
    "model.fit(X_train, y_train, epochs=20, batch_size=64, validation_split=0.1)\n",
    "\n",
    "pred = model.predict(X_test)"
   ]
  },
  {
   "cell_type": "code",
   "execution_count": 57,
   "id": "2dabe36a-fecd-4e3c-a800-fe681cba3dc9",
   "metadata": {},
   "outputs": [
    {
     "name": "stdout",
     "output_type": "stream",
     "text": [
      "['humidity', 'pressure', 'temperature', 'wind_direction', 'wind_speed']\n"
     ]
    }
   ],
   "source": [
    "print(numerical_cols)"
   ]
  },
  {
   "cell_type": "code",
   "execution_count": 64,
   "id": "3cfec2d1-8854-4ec2-8d39-c67feb7380ce",
   "metadata": {},
   "outputs": [],
   "source": [
    "# funkcija koja invertuje iz opsega [0,1] nazad u normalne vrijednosti zbog jednostavnijeg čitanja\n",
    "def invert_scale(pred_scaled, y_scaled, scaler, feature_name, numerical_cols):\n",
    "    idx = numerical_cols.index(feature_name)\n",
    "    pred_padded = np.zeros((len(pred_scaled), len(numerical_cols)))\n",
    "    y_padded = np.zeros((len(y_scaled), len(numerical_cols)))\n",
    "    pred_padded[:, idx] = pred_scaled.flatten()\n",
    "    y_padded[:, idx] = y_scaled.flatten()\n",
    "    inv_pred = scaler.inverse_transform(pred_padded)[:, idx]\n",
    "    inv_y = scaler.inverse_transform(y_padded)[:, idx]\n",
    "    return inv_pred, inv_y"
   ]
  },
  {
   "cell_type": "code",
   "execution_count": 65,
   "id": "4cf9ce10-3044-487b-aed2-3a1e4436425b",
   "metadata": {},
   "outputs": [
    {
     "name": "stdout",
     "output_type": "stream",
     "text": [
      "PRED SCALED\n",
      "[[0.51116735]\n",
      " [0.50064266]\n",
      " [0.4900846 ]\n",
      " ...\n",
      " [0.56905836]\n",
      " [0.56905836]\n",
      " [0.56905836]]\n",
      "Y SCALED\n",
      "[0.51770735 0.5062723  0.4857564  ... 0.57521963 0.57521963 0.57521963]\n",
      "PADDED PRED\n",
      "[[0. 0. 0. 0. 0.]\n",
      " [0. 0. 0. 0. 0.]\n",
      " [0. 0. 0. 0. 0.]\n",
      " ...\n",
      " [0. 0. 0. 0. 0.]\n",
      " [0. 0. 0. 0. 0.]\n",
      " [0. 0. 0. 0. 0.]]\n",
      "PADDED Y\n",
      "[[0. 0. 0. 0. 0.]\n",
      " [0. 0. 0. 0. 0.]\n",
      " [0. 0. 0. 0. 0.]\n",
      " ...\n",
      " [0. 0. 0. 0. 0.]\n",
      " [0. 0. 0. 0. 0.]\n",
      " [0. 0. 0. 0. 0.]]\n",
      "PADDED PREDD\n",
      "[[0.         0.         0.51116735 0.         0.        ]\n",
      " [0.         0.         0.50064266 0.         0.        ]\n",
      " [0.         0.         0.49008459 0.         0.        ]\n",
      " ...\n",
      " [0.         0.         0.56905836 0.         0.        ]\n",
      " [0.         0.         0.56905836 0.         0.        ]\n",
      " [0.         0.         0.56905836 0.         0.        ]]\n",
      "PADDED YY\n",
      "[[0.         0.         0.51770735 0.         0.        ]\n",
      " [0.         0.         0.50627232 0.         0.        ]\n",
      " [0.         0.         0.4857564  0.         0.        ]\n",
      " ...\n",
      " [0.         0.         0.57521963 0.         0.        ]\n",
      " [0.         0.         0.57521963 0.         0.        ]\n",
      " [0.         0.         0.57521963 0.         0.        ]]\n",
      "[281.17107982 280.5452187  279.91737269 ... 284.61362613 284.61362613\n",
      " 284.61362613]\n",
      "[281.55998742 280.87999193 279.65999251 ... 284.9800123  284.9800123\n",
      " 284.9800123 ]\n"
     ]
    }
   ],
   "source": [
    "pred_inv, y_test_inv = invert_scale(pred, y_test, scaler, target_column, numerical_cols)\n"
   ]
  },
  {
   "cell_type": "code",
   "execution_count": 68,
   "id": "c91fd634-0295-4b83-97bb-fd0694390d8b",
   "metadata": {},
   "outputs": [
    {
     "name": "stdout",
     "output_type": "stream",
     "text": [
      "MAE: 0.67\n",
      "Temperature RMSE: 0.90\n"
     ]
    },
    {
     "data": {
      "image/png": "[encoded data removed]",
      "text/plain": [
       "<Figure size 1400x500 with 1 Axes>"
      ]
     },
     "metadata": {},
     "output_type": "display_data"
    }
   ],
   "source": [
    "\n",
    "# koliko model pogriješi bez obzira na smjer greške (+- X celzijusa) - uzima apsolutnu vrijednost\n",
    "mae = mean_absolute_error(y_test_inv, pred_inv)\n",
    "print(f\"MAE: {mae:.2f}\")\n",
    "\n",
    "# ista stvar kao iznad, samo sto ovdje se kvadriraju greske - veća osjetljivost na greške\n",
    "rmse = np.sqrt(mean_squared_error(y_test_inv, pred_inv))\n",
    "print(f\"Temperature RMSE: {rmse:.2f}\")\n",
    "\n",
    "# Prikaz rezultata\n",
    "plt.figure(figsize=(14, 5))\n",
    "plt.plot(y_test_inv[:500], label='Prava temperatura')\n",
    "plt.plot(pred_inv[:500], label='Predviđena temperatura')\n",
    "plt.title(\"Predikcija temperature\")\n",
    "plt.legend()\n",
    "plt.show()"
   ]
  }
 ],
 "metadata": {
  "kernelspec": {
   "display_name": "Python 3 (ipykernel)",
   "language": "python",
   "name": "python3"
  },
  "language_info": {
   "codemirror_mode": {
    "name": "ipython",
    "version": 3
   },
   "file_extension": ".py",
   "mimetype": "text/x-python",
   "name": "python",
   "nbconvert_exporter": "python",
   "pygments_lexer": "ipython3",
   "version": "3.9.18"
  }
 },
 "nbformat": 4,
 "nbformat_minor": 5
}
