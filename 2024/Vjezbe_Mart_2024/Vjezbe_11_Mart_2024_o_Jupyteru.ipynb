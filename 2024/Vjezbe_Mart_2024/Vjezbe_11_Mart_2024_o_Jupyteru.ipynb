{
 "cells": [
  {
   "cell_type": "markdown",
   "id": "4ddf0e66-5839-469f-a963-eec6bbd2d7ab",
   "metadata": {},
   "source": [
    "# Ovo je moj naslov koji ne radi kao kod\n",
    "\n",
    "Dugme \"a\" nam dodaje celiju iznad (above)\n",
    "\n",
    "Dugme \"b\" nam dodaje celiju ispod (below)\n",
    "\n",
    "Dva puta \"d\" nam brise celiju\n",
    "\n",
    "\n",
    "Pokretanje celije se vrsi komandom shift+enter\n",
    "\n",
    "LaTeX\n",
    "\n",
    "$\\frac{1}{2}$"
   ]
  },
  {
   "cell_type": "markdown",
   "id": "e1ce7663-3db8-488e-b20b-1723449aa90d",
   "metadata": {},
   "source": [
    "## Ovo je podnaslov"
   ]
  },
  {
   "cell_type": "code",
   "execution_count": 7,
   "id": "e5235d4b-2642-41e9-bff7-1bc5f08d6536",
   "metadata": {},
   "outputs": [
    {
     "name": "stdout",
     "output_type": "stream",
     "text": [
      "3\n"
     ]
    }
   ],
   "source": [
    "a = 5\n",
    "print(1+2)"
   ]
  },
  {
   "cell_type": "code",
   "execution_count": 6,
   "id": "9164066f-f536-4ceb-b50d-332ffff60fbc",
   "metadata": {},
   "outputs": [
    {
     "name": "stdout",
     "output_type": "stream",
     "text": [
      "4\n"
     ]
    }
   ],
   "source": [
    "print(4)"
   ]
  },
  {
   "cell_type": "markdown",
   "id": "e571b643-a10a-4d33-be1f-cfcab210f939",
   "metadata": {},
   "source": [
    "ime prezime godiste godiste_invert\n",
    "faris hambo 1996    96_19\n"
   ]
  },
  {
   "cell_type": "code",
   "execution_count": 15,
   "id": "a9c63838-afd3-4dae-9eb4-add6679c8e1a",
   "metadata": {},
   "outputs": [],
   "source": [
    "import tensorflow"
   ]
  },
  {
   "cell_type": "code",
   "execution_count": 16,
   "id": "2f20d738-5818-4ccd-b1a5-c21caa2ba32b",
   "metadata": {
    "scrolled": true
   },
   "outputs": [
    {
     "name": "stdout",
     "output_type": "stream",
     "text": [
      "Requirement already satisfied: tensorflow in c:\\users\\dt user\\desktop\\unze\\dataminingvjezbe\\dm\\lib\\site-packages (2.16.1)\n",
      "Requirement already satisfied: tensorflow-intel==2.16.1 in c:\\users\\dt user\\desktop\\unze\\dataminingvjezbe\\dm\\lib\\site-packages (from tensorflow) (2.16.1)\n",
      "Requirement already satisfied: absl-py>=1.0.0 in c:\\users\\dt user\\desktop\\unze\\dataminingvjezbe\\dm\\lib\\site-packages (from tensorflow-intel==2.16.1->tensorflow) (2.1.0)\n",
      "Requirement already satisfied: astunparse>=1.6.0 in c:\\users\\dt user\\desktop\\unze\\dataminingvjezbe\\dm\\lib\\site-packages (from tensorflow-intel==2.16.1->tensorflow) (1.6.3)\n",
      "Requirement already satisfied: flatbuffers>=23.5.26 in c:\\users\\dt user\\desktop\\unze\\dataminingvjezbe\\dm\\lib\\site-packages (from tensorflow-intel==2.16.1->tensorflow) (24.3.7)\n",
      "Requirement already satisfied: gast!=0.5.0,!=0.5.1,!=0.5.2,>=0.2.1 in c:\\users\\dt user\\desktop\\unze\\dataminingvjezbe\\dm\\lib\\site-packages (from tensorflow-intel==2.16.1->tensorflow) (0.5.4)\n",
      "Requirement already satisfied: google-pasta>=0.1.1 in c:\\users\\dt user\\desktop\\unze\\dataminingvjezbe\\dm\\lib\\site-packages (from tensorflow-intel==2.16.1->tensorflow) (0.2.0)\n",
      "Requirement already satisfied: h5py>=3.10.0 in c:\\users\\dt user\\desktop\\unze\\dataminingvjezbe\\dm\\lib\\site-packages (from tensorflow-intel==2.16.1->tensorflow) (3.10.0)\n",
      "Requirement already satisfied: libclang>=13.0.0 in c:\\users\\dt user\\desktop\\unze\\dataminingvjezbe\\dm\\lib\\site-packages (from tensorflow-intel==2.16.1->tensorflow) (16.0.6)\n",
      "Requirement already satisfied: ml-dtypes~=0.3.1 in c:\\users\\dt user\\desktop\\unze\\dataminingvjezbe\\dm\\lib\\site-packages (from tensorflow-intel==2.16.1->tensorflow) (0.3.2)\n",
      "Requirement already satisfied: opt-einsum>=2.3.2 in c:\\users\\dt user\\desktop\\unze\\dataminingvjezbe\\dm\\lib\\site-packages (from tensorflow-intel==2.16.1->tensorflow) (3.3.0)\n",
      "Requirement already satisfied: packaging in c:\\users\\dt user\\desktop\\unze\\dataminingvjezbe\\dm\\lib\\site-packages (from tensorflow-intel==2.16.1->tensorflow) (24.0)\n",
      "Requirement already satisfied: protobuf!=4.21.0,!=4.21.1,!=4.21.2,!=4.21.3,!=4.21.4,!=4.21.5,<5.0.0dev,>=3.20.3 in c:\\users\\dt user\\desktop\\unze\\dataminingvjezbe\\dm\\lib\\site-packages (from tensorflow-intel==2.16.1->tensorflow) (4.25.3)\n",
      "Requirement already satisfied: requests<3,>=2.21.0 in c:\\users\\dt user\\desktop\\unze\\dataminingvjezbe\\dm\\lib\\site-packages (from tensorflow-intel==2.16.1->tensorflow) (2.31.0)\n",
      "Requirement already satisfied: setuptools in c:\\users\\dt user\\desktop\\unze\\dataminingvjezbe\\dm\\lib\\site-packages (from tensorflow-intel==2.16.1->tensorflow) (65.5.0)\n",
      "Requirement already satisfied: six>=1.12.0 in c:\\users\\dt user\\desktop\\unze\\dataminingvjezbe\\dm\\lib\\site-packages (from tensorflow-intel==2.16.1->tensorflow) (1.16.0)\n",
      "Requirement already satisfied: termcolor>=1.1.0 in c:\\users\\dt user\\desktop\\unze\\dataminingvjezbe\\dm\\lib\\site-packages (from tensorflow-intel==2.16.1->tensorflow) (2.4.0)\n",
      "Requirement already satisfied: typing-extensions>=3.6.6 in c:\\users\\dt user\\desktop\\unze\\dataminingvjezbe\\dm\\lib\\site-packages (from tensorflow-intel==2.16.1->tensorflow) (4.10.0)\n",
      "Requirement already satisfied: wrapt>=1.11.0 in c:\\users\\dt user\\desktop\\unze\\dataminingvjezbe\\dm\\lib\\site-packages (from tensorflow-intel==2.16.1->tensorflow) (1.16.0)\n",
      "Requirement already satisfied: grpcio<2.0,>=1.24.3 in c:\\users\\dt user\\desktop\\unze\\dataminingvjezbe\\dm\\lib\\site-packages (from tensorflow-intel==2.16.1->tensorflow) (1.62.1)\n",
      "Requirement already satisfied: tensorboard<2.17,>=2.16 in c:\\users\\dt user\\desktop\\unze\\dataminingvjezbe\\dm\\lib\\site-packages (from tensorflow-intel==2.16.1->tensorflow) (2.16.2)\n",
      "Requirement already satisfied: keras>=3.0.0 in c:\\users\\dt user\\desktop\\unze\\dataminingvjezbe\\dm\\lib\\site-packages (from tensorflow-intel==2.16.1->tensorflow) (3.0.5)\n",
      "Requirement already satisfied: tensorflow-io-gcs-filesystem>=0.23.1 in c:\\users\\dt user\\desktop\\unze\\dataminingvjezbe\\dm\\lib\\site-packages (from tensorflow-intel==2.16.1->tensorflow) (0.31.0)\n",
      "Requirement already satisfied: numpy<2.0.0,>=1.23.5 in c:\\users\\dt user\\desktop\\unze\\dataminingvjezbe\\dm\\lib\\site-packages (from tensorflow-intel==2.16.1->tensorflow) (1.26.4)\n",
      "Requirement already satisfied: wheel<1.0,>=0.23.0 in c:\\users\\dt user\\desktop\\unze\\dataminingvjezbe\\dm\\lib\\site-packages (from astunparse>=1.6.0->tensorflow-intel==2.16.1->tensorflow) (0.42.0)\n",
      "Requirement already satisfied: rich in c:\\users\\dt user\\desktop\\unze\\dataminingvjezbe\\dm\\lib\\site-packages (from keras>=3.0.0->tensorflow-intel==2.16.1->tensorflow) (13.7.1)\n",
      "Requirement already satisfied: namex in c:\\users\\dt user\\desktop\\unze\\dataminingvjezbe\\dm\\lib\\site-packages (from keras>=3.0.0->tensorflow-intel==2.16.1->tensorflow) (0.0.7)\n",
      "Requirement already satisfied: dm-tree in c:\\users\\dt user\\desktop\\unze\\dataminingvjezbe\\dm\\lib\\site-packages (from keras>=3.0.0->tensorflow-intel==2.16.1->tensorflow) (0.1.8)\n",
      "Requirement already satisfied: charset-normalizer<4,>=2 in c:\\users\\dt user\\desktop\\unze\\dataminingvjezbe\\dm\\lib\\site-packages (from requests<3,>=2.21.0->tensorflow-intel==2.16.1->tensorflow) (3.3.2)\n",
      "Requirement already satisfied: idna<4,>=2.5 in c:\\users\\dt user\\desktop\\unze\\dataminingvjezbe\\dm\\lib\\site-packages (from requests<3,>=2.21.0->tensorflow-intel==2.16.1->tensorflow) (3.6)\n",
      "Requirement already satisfied: urllib3<3,>=1.21.1 in c:\\users\\dt user\\desktop\\unze\\dataminingvjezbe\\dm\\lib\\site-packages (from requests<3,>=2.21.0->tensorflow-intel==2.16.1->tensorflow) (2.2.1)\n",
      "Requirement already satisfied: certifi>=2017.4.17 in c:\\users\\dt user\\desktop\\unze\\dataminingvjezbe\\dm\\lib\\site-packages (from requests<3,>=2.21.0->tensorflow-intel==2.16.1->tensorflow) (2024.2.2)\n",
      "Requirement already satisfied: markdown>=2.6.8 in c:\\users\\dt user\\desktop\\unze\\dataminingvjezbe\\dm\\lib\\site-packages (from tensorboard<2.17,>=2.16->tensorflow-intel==2.16.1->tensorflow) (3.5.2)\n",
      "Requirement already satisfied: tensorboard-data-server<0.8.0,>=0.7.0 in c:\\users\\dt user\\desktop\\unze\\dataminingvjezbe\\dm\\lib\\site-packages (from tensorboard<2.17,>=2.16->tensorflow-intel==2.16.1->tensorflow) (0.7.2)\n",
      "Requirement already satisfied: werkzeug>=1.0.1 in c:\\users\\dt user\\desktop\\unze\\dataminingvjezbe\\dm\\lib\\site-packages (from tensorboard<2.17,>=2.16->tensorflow-intel==2.16.1->tensorflow) (3.0.1)\n",
      "Requirement already satisfied: MarkupSafe>=2.1.1 in c:\\users\\dt user\\desktop\\unze\\dataminingvjezbe\\dm\\lib\\site-packages (from werkzeug>=1.0.1->tensorboard<2.17,>=2.16->tensorflow-intel==2.16.1->tensorflow) (2.1.5)\n",
      "Requirement already satisfied: markdown-it-py>=2.2.0 in c:\\users\\dt user\\desktop\\unze\\dataminingvjezbe\\dm\\lib\\site-packages (from rich->keras>=3.0.0->tensorflow-intel==2.16.1->tensorflow) (3.0.0)\n",
      "Requirement already satisfied: pygments<3.0.0,>=2.13.0 in c:\\users\\dt user\\desktop\\unze\\dataminingvjezbe\\dm\\lib\\site-packages (from rich->keras>=3.0.0->tensorflow-intel==2.16.1->tensorflow) (2.17.2)\n",
      "Requirement already satisfied: mdurl~=0.1 in c:\\users\\dt user\\desktop\\unze\\dataminingvjezbe\\dm\\lib\\site-packages (from markdown-it-py>=2.2.0->rich->keras>=3.0.0->tensorflow-intel==2.16.1->tensorflow) (0.1.2)\n"
     ]
    },
    {
     "name": "stderr",
     "output_type": "stream",
     "text": [
      "\n",
      "[notice] A new release of pip is available: 23.2.1 -> 24.0\n",
      "[notice] To update, run: python.exe -m pip install --upgrade pip\n"
     ]
    }
   ],
   "source": [
    "!pip install tensorflow"
   ]
  },
  {
   "cell_type": "code",
   "execution_count": null,
   "id": "1bcca64f-e705-443a-94e0-d038fd3d3761",
   "metadata": {},
   "outputs": [],
   "source": []
  },
  {
   "cell_type": "code",
   "execution_count": null,
   "id": "1d1998c3-e3f1-4dbd-b1f0-2b0018ef6c31",
   "metadata": {},
   "outputs": [],
   "source": []
  },
  {
   "cell_type": "code",
   "execution_count": null,
   "id": "c39a2ce0-f067-4e6e-9994-bc80df5ad772",
   "metadata": {},
   "outputs": [],
   "source": [
    "print(a+1)"
   ]
  },
  {
   "cell_type": "code",
   "execution_count": 8,
   "id": "6ba32f76-5017-4e49-acb6-7c8e8b3669a0",
   "metadata": {},
   "outputs": [
    {
     "name": "stdout",
     "output_type": "stream",
     "text": [
      "5\n"
     ]
    }
   ],
   "source": [
    "print(a)"
   ]
  },
  {
   "cell_type": "code",
   "execution_count": null,
   "id": "78cf23f2-dc65-436e-bed8-50312cbca6b9",
   "metadata": {},
   "outputs": [],
   "source": []
  },
  {
   "cell_type": "code",
   "execution_count": null,
   "id": "6a3164f1-c44b-4ac9-8c72-e5fbec696b88",
   "metadata": {},
   "outputs": [],
   "source": []
  },
  {
   "cell_type": "code",
   "execution_count": null,
   "id": "68bfba22-4af7-4209-afcf-aaf158da9818",
   "metadata": {},
   "outputs": [],
   "source": []
  }
 ],
 "metadata": {
  "kernelspec": {
   "display_name": "Python 3 (ipykernel)",
   "language": "python",
   "name": "python3"
  },
  "language_info": {
   "codemirror_mode": {
    "name": "ipython",
    "version": 3
   },
   "file_extension": ".py",
   "mimetype": "text/x-python",
   "name": "python",
   "nbconvert_exporter": "python",
   "pygments_lexer": "ipython3",
   "version": "3.11.5"
  }
 },
 "nbformat": 4,
 "nbformat_minor": 5
}
