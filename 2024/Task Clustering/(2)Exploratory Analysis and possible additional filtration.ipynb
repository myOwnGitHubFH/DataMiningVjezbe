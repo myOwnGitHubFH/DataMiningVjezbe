{
 "cells": [
  {
   "cell_type": "markdown",
   "metadata": {},
   "source": [
    "<h2>In the previous file we got the data we needed. We will use this file to some classic exploratory analysis and detect potential outliers (if any). By doing that we will additionaly refilter the dataset and eventually proceeding with applying the ML model </h2>\n"
   ]
  },
  {
   "cell_type": "code",
   "execution_count": 2,
   "metadata": {},
   "outputs": [],
   "source": [
    "import pandas as pd\n",
    "import numpy as np\n",
    "import matplotlib.pyplot as plt\n",
    "import seaborn as sns\n"
   ]
  },
  {
   "cell_type": "code",
   "execution_count": 3,
   "metadata": {},
   "outputs": [
    {
     "name": "stdout",
     "output_type": "stream",
     "text": [
      "4372\n"
     ]
    }
   ],
   "source": [
    "df = pd.read_csv('dataUserLevel.csv')\n",
    "print(len(df))"
   ]
  },
  {
   "cell_type": "code",
   "execution_count": 4,
   "metadata": {},
   "outputs": [
    {
     "data": {
      "text/html": [
       "<div>\n",
       "<style scoped>\n",
       "    .dataframe tbody tr th:only-of-type {\n",
       "        vertical-align: middle;\n",
       "    }\n",
       "\n",
       "    .dataframe tbody tr th {\n",
       "        vertical-align: top;\n",
       "    }\n",
       "\n",
       "    .dataframe thead th {\n",
       "        text-align: right;\n",
       "    }\n",
       "</style>\n",
       "<table border=\"1\" class=\"dataframe\">\n",
       "  <thead>\n",
       "    <tr style=\"text-align: right;\">\n",
       "      <th></th>\n",
       "      <th>Id</th>\n",
       "      <th>Frequency</th>\n",
       "      <th>Recency</th>\n",
       "      <th>Lifetime</th>\n",
       "      <th>MonetaryValue</th>\n",
       "    </tr>\n",
       "  </thead>\n",
       "  <tbody>\n",
       "    <tr>\n",
       "      <th>0</th>\n",
       "      <td>17850.0</td>\n",
       "      <td>35</td>\n",
       "      <td>3836</td>\n",
       "      <td>3907</td>\n",
       "      <td>5288.63</td>\n",
       "    </tr>\n",
       "    <tr>\n",
       "      <th>1</th>\n",
       "      <td>13047.0</td>\n",
       "      <td>18</td>\n",
       "      <td>3565</td>\n",
       "      <td>3907</td>\n",
       "      <td>3079.10</td>\n",
       "    </tr>\n",
       "    <tr>\n",
       "      <th>2</th>\n",
       "      <td>12583.0</td>\n",
       "      <td>18</td>\n",
       "      <td>3536</td>\n",
       "      <td>3907</td>\n",
       "      <td>7187.34</td>\n",
       "    </tr>\n",
       "    <tr>\n",
       "      <th>3</th>\n",
       "      <td>13748.0</td>\n",
       "      <td>5</td>\n",
       "      <td>3629</td>\n",
       "      <td>3907</td>\n",
       "      <td>948.25</td>\n",
       "    </tr>\n",
       "    <tr>\n",
       "      <th>4</th>\n",
       "      <td>15100.0</td>\n",
       "      <td>6</td>\n",
       "      <td>3864</td>\n",
       "      <td>3907</td>\n",
       "      <td>635.10</td>\n",
       "    </tr>\n",
       "  </tbody>\n",
       "</table>\n",
       "</div>"
      ],
      "text/plain": [
       "        Id  Frequency  Recency  Lifetime  MonetaryValue\n",
       "0  17850.0         35     3836      3907        5288.63\n",
       "1  13047.0         18     3565      3907        3079.10\n",
       "2  12583.0         18     3536      3907        7187.34\n",
       "3  13748.0          5     3629      3907         948.25\n",
       "4  15100.0          6     3864      3907         635.10"
      ]
     },
     "execution_count": 4,
     "metadata": {},
     "output_type": "execute_result"
    }
   ],
   "source": [
    "df.head()"
   ]
  },
  {
   "cell_type": "code",
   "execution_count": 5,
   "metadata": {},
   "outputs": [
    {
     "data": {
      "text/html": [
       "<div>\n",
       "<style scoped>\n",
       "    .dataframe tbody tr th:only-of-type {\n",
       "        vertical-align: middle;\n",
       "    }\n",
       "\n",
       "    .dataframe tbody tr th {\n",
       "        vertical-align: top;\n",
       "    }\n",
       "\n",
       "    .dataframe thead th {\n",
       "        text-align: right;\n",
       "    }\n",
       "</style>\n",
       "<table border=\"1\" class=\"dataframe\">\n",
       "  <thead>\n",
       "    <tr style=\"text-align: right;\">\n",
       "      <th></th>\n",
       "      <th>Id</th>\n",
       "      <th>Frequency</th>\n",
       "      <th>Recency</th>\n",
       "      <th>Lifetime</th>\n",
       "      <th>MonetaryValue</th>\n",
       "    </tr>\n",
       "  </thead>\n",
       "  <tbody>\n",
       "    <tr>\n",
       "      <th>count</th>\n",
       "      <td>4372.000000</td>\n",
       "      <td>4372.000000</td>\n",
       "      <td>4372.000000</td>\n",
       "      <td>4372.000000</td>\n",
       "      <td>4372.000000</td>\n",
       "    </tr>\n",
       "    <tr>\n",
       "      <th>mean</th>\n",
       "      <td>15299.677722</td>\n",
       "      <td>5.075480</td>\n",
       "      <td>3625.581199</td>\n",
       "      <td>3759.304209</td>\n",
       "      <td>1898.459701</td>\n",
       "    </tr>\n",
       "    <tr>\n",
       "      <th>std</th>\n",
       "      <td>1722.390705</td>\n",
       "      <td>9.338754</td>\n",
       "      <td>100.772139</td>\n",
       "      <td>118.384168</td>\n",
       "      <td>8219.345141</td>\n",
       "    </tr>\n",
       "    <tr>\n",
       "      <th>min</th>\n",
       "      <td>12346.000000</td>\n",
       "      <td>1.000000</td>\n",
       "      <td>3534.000000</td>\n",
       "      <td>3534.000000</td>\n",
       "      <td>-4287.630000</td>\n",
       "    </tr>\n",
       "    <tr>\n",
       "      <th>25%</th>\n",
       "      <td>13812.750000</td>\n",
       "      <td>1.000000</td>\n",
       "      <td>3550.000000</td>\n",
       "      <td>3649.000000</td>\n",
       "      <td>293.362500</td>\n",
       "    </tr>\n",
       "    <tr>\n",
       "      <th>50%</th>\n",
       "      <td>15300.500000</td>\n",
       "      <td>3.000000</td>\n",
       "      <td>3584.000000</td>\n",
       "      <td>3787.000000</td>\n",
       "      <td>648.075000</td>\n",
       "    </tr>\n",
       "    <tr>\n",
       "      <th>75%</th>\n",
       "      <td>16778.250000</td>\n",
       "      <td>5.000000</td>\n",
       "      <td>3677.000000</td>\n",
       "      <td>3865.000000</td>\n",
       "      <td>1611.725000</td>\n",
       "    </tr>\n",
       "    <tr>\n",
       "      <th>max</th>\n",
       "      <td>18287.000000</td>\n",
       "      <td>248.000000</td>\n",
       "      <td>3907.000000</td>\n",
       "      <td>3907.000000</td>\n",
       "      <td>279489.020000</td>\n",
       "    </tr>\n",
       "  </tbody>\n",
       "</table>\n",
       "</div>"
      ],
      "text/plain": [
       "                 Id    Frequency      Recency     Lifetime  MonetaryValue\n",
       "count   4372.000000  4372.000000  4372.000000  4372.000000    4372.000000\n",
       "mean   15299.677722     5.075480  3625.581199  3759.304209    1898.459701\n",
       "std     1722.390705     9.338754   100.772139   118.384168    8219.345141\n",
       "min    12346.000000     1.000000  3534.000000  3534.000000   -4287.630000\n",
       "25%    13812.750000     1.000000  3550.000000  3649.000000     293.362500\n",
       "50%    15300.500000     3.000000  3584.000000  3787.000000     648.075000\n",
       "75%    16778.250000     5.000000  3677.000000  3865.000000    1611.725000\n",
       "max    18287.000000   248.000000  3907.000000  3907.000000  279489.020000"
      ]
     },
     "execution_count": 5,
     "metadata": {},
     "output_type": "execute_result"
    }
   ],
   "source": [
    "df.describe()"
   ]
  },
  {
   "cell_type": "markdown",
   "metadata": {},
   "source": [
    "<h3> In order to follow the practice out there we will need to calculate IQR for each column (obviously for not the ID one - but let's just keep in mind that actually sometimes ID reveals important info for example and can be a composite key - in this case let's assume it doesn't). </h3>\n"
   ]
  },
  {
   "cell_type": "code",
   "execution_count": 8,
   "metadata": {},
   "outputs": [],
   "source": [
    "firstFreq = np.percentile(df.Frequency, 25)\n",
    "thirdFreq = np.percentile(df.Frequency, 75)\n",
    "IQRFreq = thirdFreq - firstFreq\n",
    "\n",
    "lowFreq = firstFreq - 1.5*IQRFreq\n",
    "highFreq = thirdFreq + 1.5*IQRFreq\n",
    "\n",
    "\n",
    "firstRec = np.percentile(df.Recency, 25)\n",
    "thirdRec = np.percentile(df.Recency, 75)\n",
    "IQRRec = thirdRec - firstRec\n",
    "\n",
    "lowRec = firstRec - 1.5*IQRRec\n",
    "highRec = thirdRec + 1.5*IQRRec\n",
    "\n",
    "firstLife = np.percentile(df.Lifetime, 25)\n",
    "thirdLife = np.percentile(df.Lifetime, 75)\n",
    "IQRLife = thirdLife - firstLife\n",
    "\n",
    "lowLife = firstLife - 1.5*IQRLife\n",
    "highLife = thirdLife + 1.5*IQRLife\n",
    "\n",
    "\n",
    "firstMonVal = np.percentile(df.MonetaryValue, 25)\n",
    "thirdMonVal = np.percentile(df.MonetaryValue, 75)\n",
    "IQRMonVal = thirdMonVal - firstMonVal\n",
    "\n",
    "lowMonVal = firstMonVal - 1.5*IQRMonVal\n",
    "highMonVal = thirdMonVal + 1.5*IQRMonVal\n"
   ]
  },
  {
   "cell_type": "code",
   "execution_count": 9,
   "metadata": {},
   "outputs": [],
   "source": [
    "filteredDict = {'Id':[],'Frequency':[],'Recency':[],'Lifetime':[],'MonetaryValue':[]}\n",
    "userIds = df['Id'].tolist()\n",
    "\n",
    "for i in range(len(userIds)):\n",
    "    if lowFreq <= df.Frequency.iloc[i] <= highFreq :\n",
    "        if lowRec <= df.Recency.iloc[i] <= highRec :\n",
    "            if lowLife <= df.Lifetime.iloc[i] <= highLife :\n",
    "                if lowMonVal <= df.MonetaryValue.iloc[i] <= highMonVal:\n",
    "                    filteredDict['Id'].append(userIds[i])\n",
    "                    filteredDict['Frequency'].append(df.Frequency.iloc[i])\n",
    "                    filteredDict['Lifetime'].append(df.Lifetime.iloc[i])\n",
    "                    filteredDict['MonetaryValue'].append(df.MonetaryValue.iloc[i])\n",
    "                    filteredDict['Recency'].append(df.Recency.iloc[i])\n",
    "        "
   ]
  },
  {
   "cell_type": "code",
   "execution_count": 11,
   "metadata": {},
   "outputs": [
    {
     "data": {
      "text/html": [
       "<div>\n",
       "<style scoped>\n",
       "    .dataframe tbody tr th:only-of-type {\n",
       "        vertical-align: middle;\n",
       "    }\n",
       "\n",
       "    .dataframe tbody tr th {\n",
       "        vertical-align: top;\n",
       "    }\n",
       "\n",
       "    .dataframe thead th {\n",
       "        text-align: right;\n",
       "    }\n",
       "</style>\n",
       "<table border=\"1\" class=\"dataframe\">\n",
       "  <thead>\n",
       "    <tr style=\"text-align: right;\">\n",
       "      <th></th>\n",
       "      <th>Id</th>\n",
       "      <th>Frequency</th>\n",
       "      <th>Recency</th>\n",
       "      <th>Lifetime</th>\n",
       "      <th>MonetaryValue</th>\n",
       "    </tr>\n",
       "  </thead>\n",
       "  <tbody>\n",
       "    <tr>\n",
       "      <th>0</th>\n",
       "      <td>13748.0</td>\n",
       "      <td>5</td>\n",
       "      <td>3629</td>\n",
       "      <td>3907</td>\n",
       "      <td>948.25</td>\n",
       "    </tr>\n",
       "    <tr>\n",
       "      <th>1</th>\n",
       "      <td>15100.0</td>\n",
       "      <td>6</td>\n",
       "      <td>3864</td>\n",
       "      <td>3907</td>\n",
       "      <td>635.10</td>\n",
       "    </tr>\n",
       "    <tr>\n",
       "      <th>2</th>\n",
       "      <td>16098.0</td>\n",
       "      <td>7</td>\n",
       "      <td>3621</td>\n",
       "      <td>3907</td>\n",
       "      <td>2005.63</td>\n",
       "    </tr>\n",
       "    <tr>\n",
       "      <th>3</th>\n",
       "      <td>17420.0</td>\n",
       "      <td>3</td>\n",
       "      <td>3584</td>\n",
       "      <td>3907</td>\n",
       "      <td>598.83</td>\n",
       "    </tr>\n",
       "    <tr>\n",
       "      <th>4</th>\n",
       "      <td>16250.0</td>\n",
       "      <td>2</td>\n",
       "      <td>3795</td>\n",
       "      <td>3907</td>\n",
       "      <td>389.44</td>\n",
       "    </tr>\n",
       "  </tbody>\n",
       "</table>\n",
       "</div>"
      ],
      "text/plain": [
       "        Id  Frequency  Recency  Lifetime  MonetaryValue\n",
       "0  13748.0          5     3629      3907         948.25\n",
       "1  15100.0          6     3864      3907         635.10\n",
       "2  16098.0          7     3621      3907        2005.63\n",
       "3  17420.0          3     3584      3907         598.83\n",
       "4  16250.0          2     3795      3907         389.44"
      ]
     },
     "execution_count": 11,
     "metadata": {},
     "output_type": "execute_result"
    }
   ],
   "source": [
    "filteredDf = pd.DataFrame.from_dict(filteredDict)\n",
    "filteredDf.head()\n"
   ]
  },
  {
   "cell_type": "code",
   "execution_count": 12,
   "metadata": {},
   "outputs": [
    {
     "name": "stdout",
     "output_type": "stream",
     "text": [
      "3686\n"
     ]
    }
   ],
   "source": [
    "print(len(filteredDf))"
   ]
  },
  {
   "cell_type": "code",
   "execution_count": 13,
   "metadata": {},
   "outputs": [],
   "source": [
    "filteredDf.to_csv('modelDataset.csv', encoding='utf-8', index=False)"
   ]
  },
  {
   "cell_type": "code",
   "execution_count": 14,
   "metadata": {},
   "outputs": [
    {
     "data": {
      "image/png": "[encoded data removed]",
      "text/plain": [
       "<Figure size 432x288 with 2 Axes>"
      ]
     },
     "metadata": {
      "needs_background": "light"
     },
     "output_type": "display_data"
    }
   ],
   "source": [
    "# plotting correlation heatmap\n",
    "dataplot = sns.heatmap(filteredDf.corr(), cmap=\"YlGnBu\", annot=True)\n",
    "  \n",
    "# displaying heatmap\n",
    "plt.show()"
   ]
  },
  {
   "cell_type": "code",
   "execution_count": null,
   "metadata": {},
   "outputs": [],
   "source": []
  }
 ],
 "metadata": {
  "kernelspec": {
   "display_name": "Python 3.7(tensorflow)",
   "language": "python",
   "name": "tensorflow"
  },
  "language_info": {
   "codemirror_mode": {
    "name": "ipython",
    "version": 3
   },
   "file_extension": ".py",
   "mimetype": "text/x-python",
   "name": "python",
   "nbconvert_exporter": "python",
   "pygments_lexer": "ipython3",
   "version": "3.7.9"
  }
 },
 "nbformat": 4,
 "nbformat_minor": 4
}
