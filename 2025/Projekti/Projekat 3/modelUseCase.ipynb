{
 "cells": [
  {
   "cell_type": "code",
   "execution_count": 1,
   "id": "dec1fb89",
   "metadata": {},
   "outputs": [],
   "source": [
    "import numpy as np\n",
    "from tensorflow.keras.models import load_model\n",
    "from tensorflow.keras.preprocessing.text import Tokenizer\n",
    "from tensorflow.keras.preprocessing.sequence import pad_sequences\n",
    "import pickle"
   ]
  },
  {
   "cell_type": "code",
   "execution_count": 14,
   "id": "4ccf0b3a",
   "metadata": {},
   "outputs": [
    {
     "name": "stderr",
     "output_type": "stream",
     "text": [
      "WARNING:absl:Compiled the loaded model, but the compiled metrics have yet to be built. `model.compile_metrics` will be empty until you train or evaluate the model.\n"
     ]
    }
   ],
   "source": [
    "model = load_model(\"sentiment_lstm_model_2.h5\")\n",
    "model.compile(optimizer='adam', loss='binary_crossentropy', metrics=['accuracy'])"
   ]
  },
  {
   "cell_type": "code",
   "execution_count": 3,
   "id": "79c55ff2",
   "metadata": {},
   "outputs": [],
   "source": [
    "with open(\"tokenizer.pkl\", \"rb\") as f:\n",
    "    tokenizer = pickle.load(f)\n",
    "\n",
    "maxlen = 300  # same as used in training"
   ]
  },
  {
   "cell_type": "code",
   "execution_count": 15,
   "id": "1846963e",
   "metadata": {},
   "outputs": [],
   "source": [
    "def preprocess_input(text, tokenizer, maxlen=300):\n",
    "    sequence = tokenizer.texts_to_sequences([text])\n",
    "    padded = pad_sequences(sequence, maxlen=maxlen)\n",
    "    return padded\n",
    "\n",
    "def predict_sentiment(text):\n",
    "    input_data = preprocess_input(text, tokenizer, maxlen)\n",
    "    prediction = model.predict(input_data)[0][0]\n",
    "    sentiment = \"Positive 😀\" if prediction >= 0.5 else \"Negative 😞\"\n",
    "    print(f\"Review: {text}\")\n",
    "    print(f\"Predicted sentiment: {sentiment} (score: {prediction:.4f})\")"
   ]
  },
  {
   "cell_type": "code",
   "execution_count": 17,
   "id": "932a7056",
   "metadata": {},
   "outputs": [
    {
     "name": "stdout",
     "output_type": "stream",
     "text": [
      "\u001b[1m1/1\u001b[0m \u001b[32m━━━━━━━━━━━━━━━━━━━━\u001b[0m\u001b[37m\u001b[0m \u001b[1m0s\u001b[0m 82ms/step\n",
      "Review: The movie is ass\n",
      "Predicted sentiment: Negative 😞 (score: 0.2118)\n"
     ]
    }
   ],
   "source": [
    "# === Example usage ===\n",
    "if __name__ == \"__main__\":\n",
    "    review = input(\"Enter a movie review: \")\n",
    "    predict_sentiment(review)"
   ]
  }
 ],
 "metadata": {
  "kernelspec": {
   "display_name": "Python 3",
   "language": "python",
   "name": "python3"
  },
  "language_info": {
   "codemirror_mode": {
    "name": "ipython",
    "version": 3
   },
   "file_extension": ".py",
   "mimetype": "text/x-python",
   "name": "python",
   "nbconvert_exporter": "python",
   "pygments_lexer": "ipython3",
   "version": "3.10.5"
  }
 },
 "nbformat": 4,
 "nbformat_minor": 5
}
