{
 "cells": [
  {
   "cell_type": "markdown",
   "metadata": {},
   "source": [
    "# House Prices Advanced Regression - Modeling Notebook\n",
    "## XGBoost and Random Forest Implementation"
   ]
  },
  {
   "cell_type": "code",
   "execution_count": null,
   "metadata": {},
   "outputs": [],
   "source": [
    "import numpy as np\n",
    "import pandas as pd\n",
    "import matplotlib.pyplot as plt\n",
    "import seaborn as sns\n",
    "from sklearn.model_selection import train_test_split, cross_val_score, GridSearchCV\n",
    "from sklearn.ensemble import RandomForestRegressor\n",
    "from xgboost import XGBRegressor\n",
    "from sklearn.metrics import mean_squared_error, mean_absolute_error, r2_score\n",
    "from sklearn.preprocessing import StandardScaler\n",
    "from sklearn.pipeline import make_pipeline\n",
    "import warnings\n",
    "warnings.filterwarnings('ignore')\n",
    "\n",
    "plt.style.use('seaborn')\n",
    "sns.set_palette('husl')\n",
    "%matplotlib inline"
   ]
  },
  {
   "cell_type": "markdown",
   "metadata": {},
   "source": [
    "# 2. Load processed data"
   ]
  },
  {
   "cell_type": "code",
   "execution_count": null,
   "metadata": {},
   "outputs": [],
   "source": [
    "try:\n",
    "    X_train = pd.read_csv('../processed_data/X_train_processed.csv')\n",
    "    y_train = pd.read_csv('../processed_data/y_train.csv').values.ravel()\n",
    "    X_test = pd.read_csv('../processed_data/X_test_processed.csv')\n",
    "    print(\"Data loaded successfully!\")\n",
    "    print(f\"X_train shape: {X_train.shape}\")\n",
    "    print(f\"y_train shape: {y_train.shape}\")\n",
    "    print(f\"X_test shape: {X_test.shape}\")\n",
    "except Exception as e:\n",
    "    print(f\"Error loading data: {str(e)}\")"
   ]
  },
  {
   "cell_type": "markdown",
   "metadata": {},
   "source": [
    "# 3. Train/Validation split"
   ]
  },
  {
   "cell_type": "code",
   "execution_count": null,
   "metadata": {},
   "outputs": [],
   "source": [
    "X_train, X_val, y_train, y_val = train_test_split(\n",
    "    X_train, y_train, test_size=0.3, random_state=42\n",
    ")\n",
    "print(\"\\nData split:\")\n",
    "print(f\"Train set: {X_train.shape}\")\n",
    "print(f\"Validation set: {X_val.shape}\")"
   ]
  },
  {
   "cell_type": "markdown",
   "metadata": {},
   "source": [
    "# 4. Evaluation metrics"
   ]
  },
  {
   "cell_type": "code",
   "execution_count": null,
   "metadata": {},
   "outputs": [],
   "source": [
    "def evaluate_model(y_true, y_pred, model_name=\"\"):\n",
    "    \"\"\"Calculate and display evaluation metrics\"\"\"\n",
    "    metrics = {\n",
    "        'MAE': mean_absolute_error(y_true, y_pred),\n",
    "        'RMSE': np.sqrt(mean_squared_error(y_true, y_pred)),\n",
    "        'RMSLE': np.sqrt(mean_squared_error(np.log1p(y_true), np.log1p(y_pred))),\n",
    "        'R2': r2_score(y_true, y_pred)\n",
    "    }\n",
    "    \n",
    "    print(f\"\\n{model_name} Metrics:\")\n",
    "    for name, value in metrics.items():\n",
    "        print(f\"{name}: {value:.4f}\")\n",
    "    \n",
    "    return metrics"
   ]
  },
  {
   "cell_type": "markdown",
   "metadata": {},
   "source": [
    "## Random Forest Model"
   ]
  },
  {
   "cell_type": "code",
   "execution_count": null,
   "metadata": {},
   "outputs": [],
   "source": [
    "rf_pipeline = make_pipeline(\n",
    "    StandardScaler(),\n",
    "    RandomForestRegressor(random_state=42, n_jobs=-1)\n",
    ")\n",
    "\n",
    "rf_params = {\n",
    "    'randomforestregressor__n_estimators': [100, 200],\n",
    "    'randomforestregressor__max_depth': [None, 10, 20],\n",
    "    'randomforestregressor__min_samples_split': [2, 5],\n",
    "    'randomforestregressor__min_samples_leaf': [1, 2]\n",
    "}\n",
    "\n",
    "rf_grid = GridSearchCV(\n",
    "    estimator=rf_pipeline,\n",
    "    param_grid=rf_params,\n",
    "    cv=5,\n",
    "    scoring='neg_mean_squared_error',\n",
    "    n_jobs=-1,\n",
    "    verbose=1\n",
    ")\n",
    "\n",
    "print(\"\\nTraining Random Forest model...\")\n",
    "rf_grid.fit(X_train, y_train)\n",
    "\n",
    "best_rf = rf_grid.best_estimator_\n",
    "print(\"\\nBest Random Forest parameters:\")\n",
    "print(rf_grid.best_params_)\n",
    "\n",
    "y_pred_rf = best_rf.predict(X_val)\n",
    "rf_metrics = evaluate_model(y_val, y_pred_rf, \"Random Forest\")"
   ]
  },
  {
   "cell_type": "markdown",
   "metadata": {},
   "source": [
    "# 6. RF Feature Importance"
   ]
  },
  {
   "cell_type": "code",
   "execution_count": null,
   "metadata": {},
   "outputs": [],
   "source": [
    "rf_feature_imp = pd.DataFrame({\n",
    "    'Feature': X_train.columns,\n",
    "    'Importance': best_rf.named_steps['randomforestregressor'].feature_importances_\n",
    "}).sort_values('Importance', ascending=False)\n",
    "\n",
    "plt.figure(figsize=(12, 8))\n",
    "sns.barplot(x='Importance', y='Feature', data=rf_feature_imp.head(20))\n",
    "plt.title('Top 20 Features - Random Forest')\n",
    "plt.tight_layout()\n",
    "plt.show()"
   ]
  },
  {
   "cell_type": "markdown",
   "metadata": {},
   "source": [
    "## 7. XGBoost Model"
   ]
  },
  {
   "cell_type": "code",
   "execution_count": null,
   "metadata": {},
   "outputs": [],
   "source": [
    "xgb_pipeline = make_pipeline(\n",
    "    StandardScaler(),\n",
    "    XGBRegressor(random_state=42, n_jobs=-1, objective='reg:squarederror')\n",
    ")\n",
    "\n",
    "xgb_params = {\n",
    "    'xgbregressor__n_estimators': [100, 200],\n",
    "    'xgbregressor__learning_rate': [0.01, 0.05, 0.1],\n",
    "    'xgbregressor__max_depth': [3, 5, 7],\n",
    "    'xgbregressor__subsample': [0.8, 1.0],\n",
    "    'xgbregressor__colsample_bytree': [0.8, 1.0]\n",
    "}\n",
    "\n",
    "xgb_grid = GridSearchCV(\n",
    "    estimator=xgb_pipeline,\n",
    "    param_grid=xgb_params,\n",
    "    cv=5,\n",
    "    scoring='neg_mean_squared_error',\n",
    "    n_jobs=-1,\n",
    "    verbose=1\n",
    ")\n",
    "\n",
    "print(\"\\nTraining XGBoost model...\")\n",
    "xgb_grid.fit(X_train, y_train)\n",
    "\n",
    "best_xgb = xgb_grid.best_estimator_\n",
    "print(\"\\nBest XGBoost parameters:\")\n",
    "print(xgb_grid.best_params_)\n",
    "\n",
    "y_pred_xgb = best_xgb.predict(X_val)\n",
    "xgb_metrics = evaluate_model(y_val, y_pred_xgb, \"XGBoost\")"
   ]
  },
  {
   "cell_type": "markdown",
   "metadata": {},
   "source": [
    "# 8. XGBoost Feature Importance"
   ]
  },
  {
   "cell_type": "code",
   "execution_count": null,
   "metadata": {},
   "outputs": [],
   "source": [
    "xgb_feature_imp = pd.DataFrame({\n",
    "    'Feature': X_train.columns,\n",
    "    'Importance': best_xgb.named_steps['xgbregressor'].feature_importances_\n",
    "}).sort_values('Importance', ascending=False)\n",
    "\n",
    "plt.figure(figsize=(12, 8))\n",
    "sns.barplot(x='Importance', y='Feature', data=xgb_feature_imp.head(20))\n",
    "plt.title('Top 20 Features - XGBoost')\n",
    "plt.tight_layout()\n",
    "plt.show()"
   ]
  },
  {
   "cell_type": "markdown",
   "metadata": {},
   "source": [
    "## 9. Model Comparison and Ensemble"
   ]
  },
  {
   "cell_type": "code",
   "execution_count": null,
   "metadata": {},
   "outputs": [],
   "source": [
    "y_pred_ensemble = (y_pred_rf + y_pred_xgb) / 2\n",
    "ensemble_metrics = evaluate_model(y_val, y_pred_ensemble, \"Ensemble (RF + XGB)\")\n",
    "\n",
    "metrics_df = pd.DataFrame({\n",
    "    'Random Forest': rf_metrics,\n",
    "    'XGBoost': xgb_metrics,\n",
    "    'Ensemble': ensemble_metrics\n",
    "}).T\n",
    "\n",
    "print(\"\\nModel Comparison:\")\n",
    "print(metrics_df)"
   ]
  },
  {
   "cell_type": "markdown",
   "metadata": {},
   "source": [
    "# 10. Visualization of predictions"
   ]
  },
  {
   "cell_type": "code",
   "execution_count": null,
   "metadata": {},
   "outputs": [],
   "source": [
    "plt.figure(figsize=(12, 6))\n",
    "plt.scatter(y_val, y_pred_xgb, alpha=0.5, label='XGBoost')\n",
    "plt.scatter(y_val, y_pred_rf, alpha=0.5, label='Random Forest')\n",
    "plt.plot([min(y_val), max(y_val)], [min(y_val), max(y_val)], 'r--', label='Perfect Prediction')\n",
    "plt.xlabel('Actual Prices')\n",
    "plt.ylabel('Predicted Prices')\n",
    "plt.title('Actual vs Predicted House Prices')\n",
    "plt.legend()\n",
    "plt.grid(True)\n",
    "plt.show()"
   ]
  },
  {
   "cell_type": "markdown",
   "metadata": {},
   "source": [
    "## 11. Train final model on full training data"
   ]
  },
  {
   "cell_type": "code",
   "execution_count": null,
   "metadata": {},
   "outputs": [],
   "source": [
    "final_model = make_pipeline(\n",
    "    StandardScaler(),\n",
    "    XGBRegressor(\n",
    "        **{k.replace('xgbregressor__', ''): v for k, v in xgb_grid.best_params_.items()},\n",
    "        random_state=42,\n",
    "        n_jobs=-1,\n",
    "        objective='reg:squarederror'\n",
    "    )\n",
    ")\n",
    "\n",
    "print(\"\\nTraining final model on full training data...\")\n",
    "final_model.fit(X_train, y_train)"
   ]
  },
  {
   "cell_type": "markdown",
   "metadata": {},
   "source": [
    "# 12. Make predictions on test set"
   ]
  },
  {
   "cell_type": "code",
   "execution_count": null,
   "metadata": {},
   "outputs": [],
   "source": [
    "test_predictions = final_model.predict(X_test)"
   ]
  },
  {
   "cell_type": "markdown",
   "metadata": {},
   "source": [
    "# 13. Prepare submission file"
   ]
  },
  {
   "cell_type": "code",
   "execution_count": null,
   "metadata": {},
   "outputs": [],
   "source": [
    "submission = pd.DataFrame({\n",
    "    'Id': range(1461, 1461 + len(X_test)),\n",
    "    'SalePrice': test_predictions\n",
    "})\n",
    "\n",
    "submission_path = '../processed_data/submission_final.csv'\n",
    "submission.to_csv(submission_path, index=False)\n",
    "print(f\"\\nSubmission file saved to: {submission_path}\")"
   ]
  },
  {
   "cell_type": "markdown",
   "metadata": {},
   "source": [
    "## 14. Cross Validation"
   ]
  },
  {
   "cell_type": "code",
   "execution_count": null,
   "metadata": {},
   "outputs": [],
   "source": [
    "\n",
    "def cross_validate_model(model, X, y, cv=5):\n",
    "    \"\"\"Perform cross validation and display results\"\"\"\n",
    "    scores = cross_val_score(\n",
    "        model, X, y, \n",
    "        cv=cv, \n",
    "        scoring='neg_mean_squared_error',\n",
    "        n_jobs=-1\n",
    "    )\n",
    "    rmse_scores = np.sqrt(-scores)\n",
    "    \n",
    "    print(f\"\\n{cv}-fold Cross Validation Results:\")\n",
    "    print(f\"Mean RMSE: {rmse_scores.mean():.4f}\")\n",
    "    print(f\"Std Dev: {rmse_scores.std():.4f}\")\n",
    "    \n",
    "    return rmse_scores\n",
    "\n",
    "# Perform CV on final model\n",
    "cv_scores = cross_validate_model(final_model, X_train, y_train)"
   ]
  },
  {
   "cell_type": "markdown",
   "metadata": {},
   "source": [
    "## 15. Residual Analysis"
   ]
  },
  {
   "cell_type": "code",
   "execution_count": null,
   "metadata": {},
   "outputs": [],
   "source": [
    "residuals = y_val - y_pred_xgb\n",
    "\n",
    "plt.figure(figsize=(12, 6))\n",
    "plt.subplot(1, 2, 1)\n",
    "sns.histplot(residuals, kde=True)\n",
    "plt.title('Distribution of Residuals')\n",
    "\n",
    "plt.subplot(1, 2, 2)\n",
    "plt.scatter(y_pred_xgb, residuals, alpha=0.5)\n",
    "plt.axhline(y=0, color='r', linestyle='--')\n",
    "plt.xlabel('Predicted Values')\n",
    "plt.ylabel('Residuals')\n",
    "plt.title('Residuals vs Predicted')\n",
    "plt.tight_layout()\n",
    "plt.show()"
   ]
  },
  {
   "cell_type": "markdown",
   "metadata": {},
   "source": [
    "## 16. Conclusion - Final comparison"
   ]
  },
  {
   "cell_type": "code",
   "execution_count": null,
   "metadata": {},
   "outputs": [],
   "source": [
    "print(\"\\nFinal Model Comparison:\")\n",
    "print(metrics_df)\n",
    "\n",
    "best_model = metrics_df['RMSLE'].idxmin()\n",
    "print(f\"\\nBest model based on RMSLE: {best_model}\")\n",
    "print(f\"RMSLE: {metrics_df.loc[best_model, 'RMSLE']:.4f}\")\n",
    "\n",
    "print(\"\\nModeling process completed successfully!\")"
   ]
  }
 ],
 "metadata": {
  "kernelspec": {
   "display_name": "Python 3",
   "language": "python",
   "name": "python3"
  },
  "language_info": {
   "codemirror_mode": {
    "name": "ipython",
    "version": 3
   },
   "file_extension": ".py",
   "mimetype": "text/x-python",
   "name": "python",
   "nbconvert_exporter": "python",
   "pygments_lexer": "ipython3",
   "version": "3.12.0"
  }
 },
 "nbformat": 4,
 "nbformat_minor": 4
}
