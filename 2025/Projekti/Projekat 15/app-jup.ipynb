{
 "cells": [
  {
   "cell_type": "code",
   "execution_count": 1,
   "id": "424f0c76-e08d-44ef-b04b-81747d65278a",
   "metadata": {},
   "outputs": [],
   "source": [
    "import os\n",
    "import pandas as pd"
   ]
  },
  {
   "cell_type": "code",
   "execution_count": 2,
   "id": "8b49aacb-07e7-43c5-9aa8-52ecdfb31143",
   "metadata": {},
   "outputs": [],
   "source": [
    "DATA_PATH = r\"C:/Users/ZIRA/Desktop/MASTER/RP/mahir\"\n",
    "CITY = \"New York\"\n",
    "WINDOW_SIZE = 24"
   ]
  },
  {
   "cell_type": "code",
   "execution_count": 3,
   "id": "ac412d54-6395-4d6f-8390-b8285b136d74",
   "metadata": {},
   "outputs": [],
   "source": [
    "csv_files = [\n",
    "    \"humidity.csv\",\n",
    "    \"pressure.csv\",\n",
    "    \"temperature.csv\",\n",
    "    \"wind_direction.csv\",\n",
    "    \"wind_speed.csv\",\n",
    "    \"weather_description.csv\"\n",
    "]\n",
    "\n",
    "def load_feature(file):\n",
    "    df = pd.read_csv(os.path.join(DATA_PATH, file))\n",
    "    df = df[[\"datetime\", CITY]]\n",
    "    df[\"datetime\"] = pd.to_datetime(df[\"datetime\"])\n",
    "    feature_name = file.replace(\".csv\", \"\")\n",
    "    return df.rename(columns={CITY: feature_name}).set_index(\"datetime\")\n",
    "\n",
    "#učitavanje svih csv-ova\n",
    "dfs = [load_feature(f) for f in csv_files]"
   ]
  },
  {
   "cell_type": "code",
   "execution_count": 6,
   "id": "5e0c92f4-be8f-447f-b2c6-566fba189460",
   "metadata": {},
   "outputs": [
    {
     "name": "stdout",
     "output_type": "stream",
     "text": [
      "                     humidity\n",
      "datetime                     \n",
      "2012-10-01 12:00:00       NaN\n",
      "2012-10-01 13:00:00      58.0\n",
      "2012-10-01 14:00:00      57.0\n",
      "2012-10-01 15:00:00      57.0\n",
      "2012-10-01 16:00:00      57.0\n",
      "...                       ...\n",
      "2017-11-29 20:00:00       NaN\n",
      "2017-11-29 21:00:00       NaN\n",
      "2017-11-29 22:00:00       NaN\n",
      "2017-11-29 23:00:00       NaN\n",
      "2017-11-30 00:00:00       NaN\n",
      "\n",
      "[45253 rows x 1 columns]\n"
     ]
    }
   ],
   "source": [
    "print(load_feature('humidity.csv'));"
   ]
  },
  {
   "cell_type": "code",
   "execution_count": 4,
   "id": "431e6636-cf33-418a-b683-43afd46de1a4",
   "metadata": {},
   "outputs": [],
   "source": [
    "data = pd.concat(dfs, axis=1)"
   ]
  },
  {
   "cell_type": "code",
   "execution_count": 5,
   "id": "7b227411-c0a4-4350-a70c-b6d2f90271d0",
   "metadata": {},
   "outputs": [
    {
     "name": "stdout",
     "output_type": "stream",
     "text": [
      "                     humidity  pressure  temperature  wind_direction  \\\n",
      "datetime                                                               \n",
      "2012-10-01 12:00:00       NaN       NaN          NaN             NaN   \n",
      "2012-10-01 13:00:00      58.0    1012.0   288.220000           260.0   \n",
      "2012-10-01 14:00:00      57.0    1012.0   288.247676           260.0   \n",
      "2012-10-01 15:00:00      57.0    1012.0   288.326940           260.0   \n",
      "2012-10-01 16:00:00      57.0    1012.0   288.406203           260.0   \n",
      "...                       ...       ...          ...             ...   \n",
      "2017-11-29 20:00:00       NaN       NaN          NaN             NaN   \n",
      "2017-11-29 21:00:00       NaN       NaN          NaN             NaN   \n",
      "2017-11-29 22:00:00       NaN       NaN          NaN             NaN   \n",
      "2017-11-29 23:00:00       NaN       NaN          NaN             NaN   \n",
      "2017-11-30 00:00:00       NaN       NaN          NaN             NaN   \n",
      "\n",
      "                     wind_speed weather_description  \n",
      "datetime                                             \n",
      "2012-10-01 12:00:00         NaN                 NaN  \n",
      "2012-10-01 13:00:00         7.0          few clouds  \n",
      "2012-10-01 14:00:00         7.0          few clouds  \n",
      "2012-10-01 15:00:00         7.0          few clouds  \n",
      "2012-10-01 16:00:00         7.0          few clouds  \n",
      "...                         ...                 ...  \n",
      "2017-11-29 20:00:00         NaN                 NaN  \n",
      "2017-11-29 21:00:00         NaN                 NaN  \n",
      "2017-11-29 22:00:00         NaN                 NaN  \n",
      "2017-11-29 23:00:00         NaN                 NaN  \n",
      "2017-11-30 00:00:00         NaN                 NaN  \n",
      "\n",
      "[45253 rows x 6 columns]\n"
     ]
    }
   ],
   "source": [
    "print(data)"
   ]
  }
 ],
 "metadata": {
  "kernelspec": {
   "display_name": "Python 3 (ipykernel)",
   "language": "python",
   "name": "python3"
  },
  "language_info": {
   "codemirror_mode": {
    "name": "ipython",
    "version": 3
   },
   "file_extension": ".py",
   "mimetype": "text/x-python",
   "name": "python",
   "nbconvert_exporter": "python",
   "pygments_lexer": "ipython3",
   "version": "3.9.18"
  }
 },
 "nbformat": 4,
 "nbformat_minor": 5
}
