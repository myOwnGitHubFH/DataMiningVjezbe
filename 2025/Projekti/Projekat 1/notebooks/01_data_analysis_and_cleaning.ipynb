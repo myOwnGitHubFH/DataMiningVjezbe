{
 "cells": [
  {
   "cell_type": "markdown",
   "id": "06195bdf",
   "metadata": {},
   "source": [
    "# Učitavanje podataka"
   ]
  },
  {
   "cell_type": "code",
   "execution_count": null,
   "id": "1a1c9ad7",
   "metadata": {},
   "outputs": [],
   "source": [
    "import pandas as pd\n",
    "import matplotlib.pyplot as plt\n",
    "import seaborn as sns\n",
    "\n",
    "train_df = pd.read_csv(\"../data/train.csv\")\n",
    "test_df = pd.read_csv(\"../data/test.csv\")\n",
    "\n",
    "train_df.shape\n",
    "train_df.head()"
   ]
  },
  {
   "cell_type": "markdown",
   "id": "ff274e38",
   "metadata": {},
   "source": [
    "# Osnovna analiza i informacije"
   ]
  },
  {
   "cell_type": "code",
   "execution_count": null,
   "id": "66557191",
   "metadata": {},
   "outputs": [],
   "source": [
    "train_df.info()\n",
    "train_df.describe()"
   ]
  },
  {
   "cell_type": "markdown",
   "id": "c95c20e5",
   "metadata": {},
   "source": [
    "# Provjera nedostajućih vrijednosti"
   ]
  },
  {
   "cell_type": "code",
   "execution_count": null,
   "id": "eda63cec",
   "metadata": {},
   "outputs": [],
   "source": [
    "missing = train_df.isnull().sum().sort_values(ascending=False)\n",
    "missing[missing > 0]"
   ]
  },
  {
   "cell_type": "markdown",
   "id": "96630f85",
   "metadata": {},
   "source": [
    "# Provjera outliera"
   ]
  },
  {
   "cell_type": "code",
   "execution_count": null,
   "id": "1ccebec5",
   "metadata": {},
   "outputs": [],
   "source": [
    "plt.scatter(train_df[\"GrLivArea\"], train_df[\"SalePrice\"])\n",
    "plt.title(\"GrLivArea vs SalePrice\")"
   ]
  },
  {
   "cell_type": "markdown",
   "id": "fa5b075b",
   "metadata": {},
   "source": [
    "# Analiza numeričkih i kategorijskih varijabli"
   ]
  },
  {
   "cell_type": "code",
   "execution_count": null,
   "id": "1346eb3c",
   "metadata": {},
   "outputs": [],
   "source": [
    "numeric_cols = train_df.select_dtypes(include=[\"int64\", \"float64\"]).columns\n",
    "categorical_cols = train_df.select_dtypes(include=[\"object\"]).columns\n",
    "\n",
    "print(\"Broj numeričkih:\", len(numeric_cols))\n",
    "print(\"Broj kategorijskih:\", len(categorical_cols))\n",
    "\n",
    "train_df[categorical_cols].nunique().sort_values()"
   ]
  },
  {
   "cell_type": "markdown",
   "id": "d12942c9",
   "metadata": {},
   "source": [
    "# Korelacija s ciljnim atributom (SalePrice)"
   ]
  },
  {
   "cell_type": "code",
   "execution_count": null,
   "id": "95af79db",
   "metadata": {},
   "outputs": [],
   "source": [
    "correlation = train_df[numeric_cols].corr()[\"SalePrice\"].sort_values(ascending=False)\n",
    "correlation.head(15)\n",
    "\n",
    "# Vizualna korelacija (heatmap)\n",
    "plt.figure(figsize=(12,10))\n",
    "sns.heatmap(train_df[numeric_cols].corr(), cmap=\"coolwarm\", annot=False)\n",
    "\n",
    "correlation = train_df.corr(numeric_only=True)[\"SalePrice\"].sort_values(ascending=False)\n",
    "print(correlation.head(15))\n"
   ]
  },
  {
   "cell_type": "markdown",
   "id": "93526e0d",
   "metadata": {},
   "source": [
    "# Analiza ciljne varijable SalePrice"
   ]
  },
  {
   "cell_type": "code",
   "execution_count": null,
   "id": "0ff7259e",
   "metadata": {},
   "outputs": [],
   "source": [
    "sns.histplot(train_df[\"SalePrice\"], kde=True)\n",
    "plt.title(\"Distribucija SalePrice\")"
   ]
  },
  {
   "cell_type": "markdown",
   "id": "820ebf86",
   "metadata": {},
   "source": [
    "# Unique vrijednosti za kategorijske kolone"
   ]
  },
  {
   "cell_type": "code",
   "execution_count": null,
   "id": "d76f813c",
   "metadata": {},
   "outputs": [],
   "source": [
    "train_df[categorical_cols].nunique().sort_values()"
   ]
  },
  {
   "cell_type": "markdown",
   "id": "6a92bd1b",
   "metadata": {},
   "source": [
    "# Statistički rezime SalePrice i ključnih varijabli"
   ]
  },
  {
   "cell_type": "code",
   "execution_count": null,
   "id": "82648f2b",
   "metadata": {},
   "outputs": [],
   "source": [
    "train_df[\"SalePrice\"].describe()\n",
    "train_df[[\"OverallQual\", \"GrLivArea\", \"GarageCars\", \"TotalBsmtSF\"]].describe()\n",
    "\n",
    "train_df[numeric_cols].skew().sort_values(ascending=False).head(10)"
   ]
  },
  {
   "cell_type": "markdown",
   "id": "1675302a",
   "metadata": {},
   "source": [
    "# Analiza najjače koreliranih feature-a sa SalePrice"
   ]
  },
  {
   "cell_type": "code",
   "execution_count": null,
   "id": "1c9fd9f9",
   "metadata": {},
   "outputs": [],
   "source": [
    "top_corr = correlation[1:6].index\n",
    "for col in top_corr:\n",
    "    sns.scatterplot(x=train_df[col], y=train_df[\"SalePrice\"])\n",
    "    plt.title(f\"{col} vs SalePrice\")\n",
    "    plt.show()"
   ]
  },
  {
   "cell_type": "markdown",
   "id": "2ad5875b",
   "metadata": {},
   "source": [
    "# Višedimenzionalna analiza ključnih feature-a"
   ]
  },
  {
   "cell_type": "code",
   "execution_count": null,
   "id": "2253d09a",
   "metadata": {},
   "outputs": [],
   "source": [
    "sns.lmplot(data=train_df, x=\"GrLivArea\", y=\"SalePrice\", hue=\"OverallQual\", fit_reg=False, height=6)"
   ]
  },
  {
   "cell_type": "markdown",
   "id": "501d5281",
   "metadata": {},
   "source": [
    "# Boxplot za SalePrice vs Kategorijske varijable"
   ]
  },
  {
   "cell_type": "code",
   "execution_count": null,
   "id": "f0343a4f",
   "metadata": {},
   "outputs": [],
   "source": [
    "plt.figure(figsize=(15,8))\n",
    "sns.boxplot(x=\"Neighborhood\", y=\"SalePrice\", data=train_df)\n",
    "plt.xticks(rotation=45)\n",
    "plt.title(\"Cijena po naselju\")"
   ]
  },
  {
   "cell_type": "markdown",
   "id": "c5eb6a07",
   "metadata": {},
   "source": [
    "# Provjera duplikata"
   ]
  },
  {
   "cell_type": "code",
   "execution_count": null,
   "id": "e97966d4",
   "metadata": {},
   "outputs": [],
   "source": [
    "train_df.duplicated().sum()"
   ]
  },
  {
   "cell_type": "markdown",
   "id": "819d24eb",
   "metadata": {},
   "source": [
    "# Provjera kolona sa niskim varijacijama (low variance)"
   ]
  },
  {
   "cell_type": "code",
   "execution_count": null,
   "id": "3677bfbe",
   "metadata": {},
   "outputs": [],
   "source": [
    "low_variance = [col for col in train_df.columns if train_df[col].nunique() < 3]\n",
    "print(\"Kolone sa skoro istim vrijednostima:\", low_variance)"
   ]
  },
  {
   "cell_type": "markdown",
   "id": "61685e69",
   "metadata": {},
   "source": [
    "# Vizualna analiza odnosa varijabli (pairplot)"
   ]
  },
  {
   "cell_type": "code",
   "execution_count": null,
   "id": "7b2d513e",
   "metadata": {},
   "outputs": [],
   "source": [
    "sns.pairplot(train_df[[\"SalePrice\", \"GrLivArea\", \"TotalBsmtSF\", \"1stFlrSF\", \"GarageArea\"]])"
   ]
  },
  {
   "cell_type": "markdown",
   "id": "f7431d03",
   "metadata": {},
   "source": [
    "# Kolone sa NaN vrijednostima"
   ]
  },
  {
   "cell_type": "code",
   "execution_count": null,
   "id": "bf0787ce",
   "metadata": {},
   "outputs": [],
   "source": [
    "col_nan = train_df.isna().sum() / train_df.shape[0]\n",
    "\n",
    "plt.figure(figsize=(8, 5))\n",
    "sns.set(font_scale=1.2)\n",
    "col_nan[col_nan > 0.01].plot(kind = \"barh\")\n",
    "plt.title(\"Kolone sa najvećim postotkom NaN vrijednosti\")"
   ]
  },
  {
   "cell_type": "markdown",
   "id": "7f8ff726",
   "metadata": {},
   "source": [
    "# Čišćenje podataka"
   ]
  },
  {
   "cell_type": "markdown",
   "id": "9707ed66",
   "metadata": {},
   "source": [
    "# Uklanjanje ID kolona"
   ]
  },
  {
   "cell_type": "code",
   "execution_count": null,
   "id": "13d6e608",
   "metadata": {},
   "outputs": [],
   "source": [
    "train_df = train_df.drop(\"Id\", axis=1)\n",
    "test_df = test_df.drop(\"Id\", axis=1)"
   ]
  },
  {
   "cell_type": "markdown",
   "id": "b780f072",
   "metadata": {},
   "source": [
    "# Uklanjanje kolona sa istim vrijednostima"
   ]
  },
  {
   "cell_type": "code",
   "execution_count": null,
   "id": "7b9c61ec",
   "metadata": {},
   "outputs": [],
   "source": [
    "train_df = train_df.drop([\"Street\", \"Utilities\"], axis=1)\n",
    "test_df = test_df.drop([\"Street\", \"Utilities\"], axis=1)"
   ]
  },
  {
   "cell_type": "markdown",
   "id": "7d2d7e3e",
   "metadata": {},
   "source": [
    "# Uklanjanje outliera"
   ]
  },
  {
   "cell_type": "code",
   "execution_count": null,
   "id": "c2060be1",
   "metadata": {},
   "outputs": [],
   "source": [
    "train_df = train_df.drop(train_df[(train_df['GrLivArea'] > 4500)].index)"
   ]
  },
  {
   "cell_type": "markdown",
   "id": "e56653a7",
   "metadata": {},
   "source": [
    "# Spajanje train + test u jedan skup radi zajedničke obrade"
   ]
  },
  {
   "cell_type": "code",
   "execution_count": null,
   "id": "eef4ccf8",
   "metadata": {},
   "outputs": [],
   "source": [
    "y = train_df['SalePrice']\n",
    "train_features = train_df.drop(['SalePrice'], axis=1)\n",
    "all_data = pd.concat([train_features, test_df]).reset_index(drop=True)"
   ]
  },
  {
   "cell_type": "markdown",
   "id": "c95e9646",
   "metadata": {},
   "source": [
    "# Ispravljanje grešaka u podacima"
   ]
  },
  {
   "cell_type": "code",
   "execution_count": null,
   "id": "910cf09e",
   "metadata": {},
   "outputs": [],
   "source": [
    "all_data.loc[all_data['GarageYrBlt'] > 2017, 'GarageYrBlt'] = 2007"
   ]
  },
  {
   "cell_type": "markdown",
   "id": "e43b0b73",
   "metadata": {},
   "source": [
    "# Popunjavanje LotFrontage po Neighborhood"
   ]
  },
  {
   "cell_type": "code",
   "execution_count": null,
   "id": "dd77d3f4",
   "metadata": {},
   "outputs": [],
   "source": [
    "all_data['LotFrontage'] = all_data.groupby('Neighborhood')['LotFrontage'].transform(lambda x: x.fillna(x.median()))"
   ]
  },
  {
   "cell_type": "markdown",
   "id": "5647edd6",
   "metadata": {},
   "source": [
    "# Numeričke koje treba pretvoriti u kategorijske"
   ]
  },
  {
   "cell_type": "code",
   "execution_count": null,
   "id": "6e9b9520",
   "metadata": {},
   "outputs": [],
   "source": [
    "all_data['MSSubClass'] = all_data['MSSubClass'].astype(str)\n",
    "all_data['OverallCond'] = all_data['OverallCond'].astype(str)"
   ]
  },
  {
   "cell_type": "markdown",
   "id": "1323d9bf",
   "metadata": {},
   "source": [
    "# Z-score metoda za uklanjanje outliera (samo na train_df)"
   ]
  },
  {
   "cell_type": "code",
   "execution_count": null,
   "id": "fea5cc72",
   "metadata": {},
   "outputs": [],
   "source": [
    "from scipy import stats\n",
    "import numpy as np\n",
    "\n",
    "def remove_outliers(dataset, threshold=3, columns=None):\n",
    "    if columns is None:\n",
    "        columns = dataset.select_dtypes(include=['int64', 'float64']).columns\n",
    "    z = np.abs(stats.zscore(dataset[columns]))\n",
    "    outliers = (z > threshold).any(axis=1)\n",
    "    print(f\"Uklonjeno redova: {outliers.sum()}\")\n",
    "    return dataset[~outliers]\n",
    "\n",
    "# Primijeni samo na trening skup jer je target poznat\n",
    "train_df_clean = remove_outliers(train_df, columns=['GrLivArea'])"
   ]
  },
  {
   "cell_type": "markdown",
   "id": "0066640b",
   "metadata": {},
   "source": [
    "# Popunjavanje nedostajućih vrijednosti (numeričke)"
   ]
  },
  {
   "cell_type": "code",
   "execution_count": null,
   "id": "8bcaa267",
   "metadata": {},
   "outputs": [],
   "source": [
    "from sklearn.impute import SimpleImputer\n",
    "\n",
    "zero_fill = ['BsmtFinSF1', 'BsmtFinSF2', 'BsmtFullBath', 'BsmtHalfBath', 'MasVnrArea']\n",
    "median_fill = [col for col in all_data.select_dtypes(include=['int64', 'float64']).columns if col not in zero_fill]\n",
    "\n",
    "all_data[zero_fill] = all_data[zero_fill].fillna(0)\n",
    "all_data[median_fill] = all_data[median_fill].fillna(all_data[median_fill].median())"
   ]
  },
  {
   "cell_type": "markdown",
   "id": "f1358d2a",
   "metadata": {},
   "source": [
    "# Popunjavanje kategorijskih kolona specifičnim vrijednostima"
   ]
  },
  {
   "cell_type": "code",
   "execution_count": null,
   "id": "646017ce",
   "metadata": {},
   "outputs": [],
   "source": [
    "none_conversion = [\n",
    "    (\"MasVnrType\",\"None\"), (\"BsmtQual\",\"NA\"), (\"Electrical\", \"SBrkr\"),\n",
    "    (\"BsmtCond\",\"TA\"), (\"BsmtExposure\",\"No\"), (\"BsmtFinType1\",\"No\"), (\"BsmtFinType2\",\"No\"),\n",
    "    (\"FireplaceQu\",\"NA\"), (\"GarageType\",\"No\"), (\"GarageFinish\",\"No\"),\n",
    "    (\"GarageQual\",\"NA\"), (\"GarageCond\",\"NA\"), (\"KitchenQual\",\"TA\"),\n",
    "    (\"Functional\",\"Typ\"), (\"MSZoning\", \"None\"), (\"Exterior1st\", \"VinylSd\"),\n",
    "    (\"Exterior2nd\", \"VinylSd\"), (\"SaleType\", \"WD\")\n",
    "]\n",
    "\n",
    "for col, val in none_conversion:\n",
    "    if col in all_data.columns:\n",
    "        all_data[col] = all_data[col].fillna(val)"
   ]
  },
  {
   "cell_type": "markdown",
   "id": "8153cf59",
   "metadata": {},
   "source": [
    "# Transformacija \"skewed\" kolona sa Box-Cox"
   ]
  },
  {
   "cell_type": "code",
   "execution_count": null,
   "id": "cf8a9809",
   "metadata": {},
   "outputs": [],
   "source": [
    "from scipy.special import boxcox1p\n",
    "from scipy.stats import skew\n",
    "\n",
    "numeric_feats = all_data.select_dtypes(include=['int64', 'float64']).columns\n",
    "skewed_feats = all_data[numeric_feats].apply(lambda x: skew(x.dropna())).sort_values(ascending=False)\n",
    "high_skew = skewed_feats[skewed_feats > 0.5].index\n",
    "\n",
    "for feat in high_skew:\n",
    "    all_data[feat] = boxcox1p(all_data[feat], 0.15)"
   ]
  },
  {
   "cell_type": "markdown",
   "id": "3f50f677",
   "metadata": {},
   "source": [
    "# Enkodiranje kategorijskih varijabli za xGBoost i Random Forest"
   ]
  },
  {
   "cell_type": "code",
   "execution_count": null,
   "id": "55da612e",
   "metadata": {},
   "outputs": [],
   "source": [
    "from sklearn.preprocessing import LabelEncoder\n",
    "\n",
    "def encode_features(df):\n",
    "    df = df.copy()\n",
    "    label_encoders = {}\n",
    "\n",
    "    # 1. Ručno mapiranje ordinalnih varijabli\n",
    "    ordinal_mappings = {\n",
    "        \"ExterQual\": {\"Po\":1, \"Fa\":2, \"TA\":3, \"Gd\":4, \"Ex\":5},\n",
    "        \"ExterCond\": {\"Po\":1, \"Fa\":2, \"TA\":3, \"Gd\":4, \"Ex\":5},\n",
    "        \"BsmtQual\": {\"NA\":0, \"Po\":1, \"Fa\":2, \"TA\":3, \"Gd\":4, \"Ex\":5},\n",
    "        \"BsmtCond\": {\"NA\":0, \"Po\":1, \"Fa\":2, \"TA\":3, \"Gd\":4, \"Ex\":5},\n",
    "        \"HeatingQC\": {\"Po\":1, \"Fa\":2, \"TA\":3, \"Gd\":4, \"Ex\":5},\n",
    "        \"KitchenQual\": {\"Po\":1, \"Fa\":2, \"TA\":3, \"Gd\":4, \"Ex\":5},\n",
    "        \"FireplaceQu\": {\"NA\":0, \"Po\":1, \"Fa\":2, \"TA\":3, \"Gd\":4, \"Ex\":5},\n",
    "        \"GarageQual\": {\"NA\":0, \"Po\":1, \"Fa\":2, \"TA\":3, \"Gd\":4, \"Ex\":5},\n",
    "        \"GarageCond\": {\"NA\":0, \"Po\":1, \"Fa\":2, \"TA\":3, \"Gd\":4, \"Ex\":5},\n",
    "        \"PoolQC\": {\"NA\":0, \"Fa\":1, \"TA\":2, \"Gd\":3, \"Ex\":4},\n",
    "        \"BsmtExposure\": {\"NA\":0, \"No\":1, \"Mn\":2, \"Av\":3, \"Gd\":4},\n",
    "        \"BsmtFinType1\": {\"NA\":0, \"Unf\":1, \"LwQ\":2, \"Rec\":3, \"BLQ\":4, \"ALQ\":5, \"GLQ\":6},\n",
    "        \"BsmtFinType2\": {\"NA\":0, \"Unf\":1, \"LwQ\":2, \"Rec\":3, \"BLQ\":4, \"ALQ\":5, \"GLQ\":6},\n",
    "        \"Functional\": {\"Sal\":1, \"Sev\":2, \"Maj2\":3, \"Maj1\":4, \"Mod\":5, \"Min2\":6, \"Min1\":7, \"Typ\":8},\n",
    "        \"GarageFinish\": {\"NA\":0, \"Unf\":1, \"RFn\":2, \"Fin\":3},\n",
    "        \"Fence\": {\"NA\":0, \"MnWw\":1, \"GdWo\":2, \"MnPrv\":3, \"GdPrv\":4},\n",
    "        \"LotShape\": {\"IR3\":1, \"IR2\":2, \"IR1\":3, \"Reg\":4},\n",
    "        \"PavedDrive\": {\"N\":0, \"P\":1, \"Y\":2},\n",
    "        \"Utilities\": {\"ELO\":1, \"NoSeWa\":2, \"NoSewr\":3, \"AllPub\":4},\n",
    "        \"LandSlope\": {\"Sev\":1, \"Mod\":2, \"Gtl\":3}\n",
    "    }\n",
    "\n",
    "    for col, mapping in ordinal_mappings.items():\n",
    "        if col in df.columns:\n",
    "            df[col] = df[col].map(mapping).fillna(0).astype(int)\n",
    "\n",
    "    # 2. Label Encoding za ostale kategorijske varijable (koje su object dtype)\n",
    "    categorical_cols = df.select_dtypes(include=['object']).columns\n",
    "\n",
    "    for col in categorical_cols:\n",
    "        le = LabelEncoder()\n",
    "        df[col] = df[col].astype(str)  # sigurnost ako ima NaN\n",
    "        df[col] = le.fit_transform(df[col])\n",
    "        label_encoders[col] = le  # čuvamo enkodere za kasnije (npr. test skup)\n",
    "\n",
    "    return df, label_encoders"
   ]
  },
  {
   "cell_type": "code",
   "execution_count": 35,
   "id": "dca97e68",
   "metadata": {},
   "outputs": [],
   "source": [
    "all_data_encoded, label_encoders = encode_features(all_data)"
   ]
  },
  {
   "cell_type": "code",
   "execution_count": null,
   "id": "b8b84810",
   "metadata": {},
   "outputs": [],
   "source": [
    "X_train = all_data_encoded.iloc[:train_features.shape[0], :].copy()\n",
    "X_test = all_data_encoded.iloc[train_features.shape[0]:, :].copy()"
   ]
  },
  {
   "cell_type": "markdown",
   "id": "80c77990",
   "metadata": {},
   "source": [
    "# Provjera čišćenja"
   ]
  },
  {
   "cell_type": "code",
   "execution_count": 38,
   "id": "2b8bc3fe",
   "metadata": {},
   "outputs": [
    {
     "name": "stdout",
     "output_type": "stream",
     "text": [
      "X_train shape: (1458, 77)\n",
      "y shape: (1458,)\n",
      "X_test shape: (1459, 77)\n"
     ]
    }
   ],
   "source": [
    "print(\"X_train shape:\", X_train.shape)\n",
    "print(\"y shape:\", y.shape)\n",
    "print(\"X_test shape:\", X_test.shape)"
   ]
  },
  {
   "cell_type": "markdown",
   "id": "b91bcf79",
   "metadata": {},
   "source": [
    "# Provjera NaN vrijednosti"
   ]
  },
  {
   "cell_type": "code",
   "execution_count": 39,
   "id": "ba4dfa59",
   "metadata": {},
   "outputs": [
    {
     "name": "stdout",
     "output_type": "stream",
     "text": [
      "NaN u X_train: 0\n",
      "NaN u X_test: 0\n"
     ]
    }
   ],
   "source": [
    "print(\"NaN u X_train:\", X_train.isnull().sum().sum())\n",
    "print(\"NaN u X_test:\", X_test.isnull().sum().sum())"
   ]
  },
  {
   "cell_type": "markdown",
   "id": "f763731c",
   "metadata": {},
   "source": [
    "# Provjera tipova podataka"
   ]
  },
  {
   "cell_type": "code",
   "execution_count": 40,
   "id": "63ea6baf",
   "metadata": {},
   "outputs": [
    {
     "name": "stdout",
     "output_type": "stream",
     "text": [
      "int64      50\n",
      "float64    27\n",
      "Name: count, dtype: int64\n"
     ]
    }
   ],
   "source": [
    "print(X_train.dtypes.value_counts())"
   ]
  },
  {
   "cell_type": "markdown",
   "id": "11e350b7",
   "metadata": {},
   "source": [
    "# Provjera distribucije target varijable (y)"
   ]
  },
  {
   "cell_type": "code",
   "execution_count": 41,
   "id": "447eb9a4",
   "metadata": {},
   "outputs": [
    {
     "data": {
      "image/png": "[encoded data removed]",
      "text/plain": [
       "<Figure size 640x480 with 1 Axes>"
      ]
     },
     "metadata": {},
     "output_type": "display_data"
    }
   ],
   "source": [
    "import seaborn as sns\n",
    "import matplotlib.pyplot as plt\n",
    "\n",
    "sns.histplot(y, kde=True)\n",
    "plt.title(\"Distribucija y (SalePrice)\")\n",
    "plt.show()"
   ]
  },
  {
   "cell_type": "markdown",
   "id": "281c7287",
   "metadata": {},
   "source": [
    "# Provjera korelacija"
   ]
  },
  {
   "cell_type": "code",
   "execution_count": 42,
   "id": "92cbe182",
   "metadata": {},
   "outputs": [
    {
     "name": "stdout",
     "output_type": "stream",
     "text": [
      "SalePrice      1.000000\n",
      "OverallQual    0.287047\n",
      "GrLivArea      0.248560\n",
      "GarageCars     0.244847\n",
      "GarageArea     0.243663\n",
      "ExterQual      0.242166\n",
      "KitchenQual    0.230058\n",
      "BsmtQual       0.227074\n",
      "1stFlrSF       0.218437\n",
      "FireplaceQu    0.213916\n",
      "Name: SalePrice, dtype: float64\n"
     ]
    }
   ],
   "source": [
    "train_corr = X_train.copy()\n",
    "train_corr[\"SalePrice\"] = y\n",
    "correlation = train_corr.corr()[\"SalePrice\"].sort_values(ascending=False)\n",
    "print(correlation.head(10))"
   ]
  }
 ],
 "metadata": {
  "kernelspec": {
   "display_name": "Python 3",
   "language": "python",
   "name": "python3"
  },
  "language_info": {
   "codemirror_mode": {
    "name": "ipython",
    "version": 3
   },
   "file_extension": ".py",
   "mimetype": "text/x-python",
   "name": "python",
   "nbconvert_exporter": "python",
   "pygments_lexer": "ipython3",
   "version": "3.12.0"
  }
 },
 "nbformat": 4,
 "nbformat_minor": 5
}
